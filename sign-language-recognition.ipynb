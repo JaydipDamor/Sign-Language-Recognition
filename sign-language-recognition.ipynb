{
 "cells": [
  {
   "cell_type": "markdown",
   "id": "bd80fc40",
   "metadata": {},
   "source": [
    "**Problem Definition**\n",
    "\n",
    "Convert the Sign Alphabet to Text\n",
    "\n",
    "**Data**\n",
    "\n",
    "[Dataset](https://www.kaggle.com/datasets/datamunge/sign-language-mnist)\n",
    "\n",
    "1. No cases for the letters J & Z (Reason: J & Z require motion)\n",
    "2. GrayScale Images\n",
    "3. Pixel Values Range From 0 to 255\n",
    "4. Each image contains 784 Pixels\n",
    "\n",
    "\n",
    "**Evaluation**\n",
    "\n",
    "Accuracy\n",
    "\n",
    "**Modelling**\n",
    "\n",
    "CNN"
   ]
  },
  {
   "cell_type": "markdown",
   "id": "83ec1c39",
   "metadata": {},
   "source": [
    "# Initial End-to-End Workflow (Start)"
   ]
  },
  {
   "cell_type": "code",
   "execution_count": 1,
   "id": "15daf294",
   "metadata": {},
   "outputs": [],
   "source": [
    "# Importing required libraries\n",
    "\n",
    "from sklearn.preprocessing import LabelBinarizer\n",
    "from tensorflow import keras\n",
    "\n",
    "import tensorflow as tf\n",
    "import numpy as np\n",
    "import pandas as pd\n",
    "import matplotlib.pyplot as plt\n",
    "import pickle"
   ]
  },
  {
   "cell_type": "code",
   "execution_count": 2,
   "id": "dafa44b9",
   "metadata": {},
   "outputs": [],
   "source": [
    "# loading the training data (X+y)\n",
    "train_df = pd.read_csv('data/alphabet/sign_mnist_train.csv')"
   ]
  },
  {
   "cell_type": "code",
   "execution_count": 3,
   "id": "d7669304",
   "metadata": {},
   "outputs": [],
   "source": [
    "train_df = train_df.sample(frac=1, random_state=42) # Shuffiling the entire dataset"
   ]
  },
  {
   "cell_type": "code",
   "execution_count": 4,
   "id": "8269e216",
   "metadata": {},
   "outputs": [],
   "source": [
    "X, y = train_df.drop('label', axis=1), train_df['label'] # Split the dataset into X, y"
   ]
  },
  {
   "cell_type": "code",
   "execution_count": 5,
   "id": "8c2b3aa3",
   "metadata": {},
   "outputs": [
    {
     "data": {
      "text/plain": [
       "((27455, 784), (27455,))"
      ]
     },
     "execution_count": 5,
     "metadata": {},
     "output_type": "execute_result"
    }
   ],
   "source": [
    "X.shape, y.shape"
   ]
  },
  {
   "cell_type": "code",
   "execution_count": 6,
   "id": "da58cd49",
   "metadata": {},
   "outputs": [
    {
     "data": {
      "text/plain": [
       "(array([dtype('int64')], dtype=object), dtype('int64'))"
      ]
     },
     "execution_count": 6,
     "metadata": {},
     "output_type": "execute_result"
    }
   ],
   "source": [
    "np.unique(X.dtypes), y.dtype"
   ]
  },
  {
   "cell_type": "code",
   "execution_count": 7,
   "id": "22b62d7a",
   "metadata": {},
   "outputs": [],
   "source": [
    "label_binarizer = LabelBinarizer() # Binarize labels in a one-vs-all fashion (return one-hot encoded vectors)\n",
    "y = label_binarizer.fit_transform(y)"
   ]
  },
  {
   "cell_type": "code",
   "execution_count": 8,
   "id": "3cc4add2",
   "metadata": {},
   "outputs": [],
   "source": [
    "X = X/255.0 # Normalizing the training data and converting the data type to float"
   ]
  },
  {
   "cell_type": "code",
   "execution_count": 9,
   "id": "d6700a24",
   "metadata": {},
   "outputs": [
    {
     "data": {
      "text/plain": [
       "array([dtype('float64')], dtype=object)"
      ]
     },
     "execution_count": 9,
     "metadata": {},
     "output_type": "execute_result"
    }
   ],
   "source": [
    "np.unique(X.dtypes)"
   ]
  },
  {
   "cell_type": "code",
   "execution_count": 10,
   "id": "c9872eca",
   "metadata": {},
   "outputs": [],
   "source": [
    "# Converting the 1-D array of 784 pixels to (28, 28, 1) Image\n",
    "# (28, 28) represents the spatial dimensions of the image & 1 specifies that the image is grayscale\n",
    "X = tf.reshape(X, [-1, 28, 28, 1])"
   ]
  },
  {
   "cell_type": "code",
   "execution_count": 11,
   "id": "c6a7f19f",
   "metadata": {},
   "outputs": [
    {
     "data": {
      "text/plain": [
       "(TensorShape([27455, 28, 28, 1]), (27455, 24))"
      ]
     },
     "execution_count": 11,
     "metadata": {},
     "output_type": "execute_result"
    }
   ],
   "source": [
    "X.shape, y.shape"
   ]
  },
  {
   "cell_type": "code",
   "execution_count": 12,
   "id": "f950e21c",
   "metadata": {},
   "outputs": [],
   "source": [
    "# Generating a validation set\n",
    "\n",
    "X_train, X_valid = X[:25000], X[25000:]\n",
    "y_train, y_valid = y[:25000], y[25000:]"
   ]
  },
  {
   "cell_type": "code",
   "execution_count": 13,
   "id": "a51e4a80",
   "metadata": {},
   "outputs": [
    {
     "data": {
      "text/plain": [
       "tf.float64"
      ]
     },
     "execution_count": 13,
     "metadata": {},
     "output_type": "execute_result"
    }
   ],
   "source": [
    "X_train[0].dtype"
   ]
  },
  {
   "cell_type": "code",
   "execution_count": 14,
   "id": "f567ca9b",
   "metadata": {},
   "outputs": [
    {
     "data": {
      "text/plain": [
       "TensorShape([28, 28, 1])"
      ]
     },
     "execution_count": 14,
     "metadata": {},
     "output_type": "execute_result"
    }
   ],
   "source": [
    "X_train[0].shape"
   ]
  },
  {
   "cell_type": "code",
   "execution_count": 15,
   "id": "d2533d22",
   "metadata": {},
   "outputs": [
    {
     "data": {
      "text/plain": [
       "(<matplotlib.image.AxesImage at 0x247fd35a490>,\n",
       " array([0, 0, 0, 0, 0, 0, 0, 0, 0, 0, 0, 0, 0, 0, 0, 0, 0, 1, 0, 0, 0, 0,\n",
       "        0, 0]))"
      ]
     },
     "execution_count": 15,
     "metadata": {},
     "output_type": "execute_result"
    },
    {
     "data": {
      "image/png": "[encoded data removed]",
      "text/plain": [
       "<Figure size 432x288 with 1 Axes>"
      ]
     },
     "metadata": {
      "needs_background": "light"
     },
     "output_type": "display_data"
    }
   ],
   "source": [
    "plt.imshow(X[0], cmap='gray'), y[2]"
   ]
  },
  {
   "cell_type": "code",
   "execution_count": 16,
   "id": "09046338",
   "metadata": {},
   "outputs": [],
   "source": [
    "# Defining the CNN\n",
    "\n",
    "model = keras.models.Sequential()\n",
    "model.add(keras.layers.Conv2D(32, (5, 5), padding='same', activation='relu', input_shape=(28, 28, 1)))\n",
    "model.add(keras.layers.MaxPooling2D(pool_size=(2, 2)))\n",
    "model.add(keras.layers.Conv2D(64, (5, 5), padding='same', activation='relu'))\n",
    "model.add(keras.layers.MaxPooling2D(pool_size=(2, 2)))\n",
    "model.add(keras.layers.Conv2D(128, (5, 5), padding='same', activation='relu'))\n",
    "model.add(keras.layers.MaxPooling2D(pool_size=(2, 2)))\n",
    "model.add(keras.layers.Flatten())\n",
    "model.add(keras.layers.Dense(128, activation='relu'))\n",
    "model.add(keras.layers.Dense(24, activation='softmax'))"
   ]
  },
  {
   "cell_type": "code",
   "execution_count": 17,
   "id": "333da112",
   "metadata": {},
   "outputs": [
    {
     "name": "stdout",
     "output_type": "stream",
     "text": [
      "Model: \"sequential\"\n",
      "_________________________________________________________________\n",
      " Layer (type)                Output Shape              Param #   \n",
      "=================================================================\n",
      " conv2d (Conv2D)             (None, 28, 28, 32)        832       \n",
      "                                                                 \n",
      " max_pooling2d (MaxPooling2D  (None, 14, 14, 32)       0         \n",
      " )                                                               \n",
      "                                                                 \n",
      " conv2d_1 (Conv2D)           (None, 14, 14, 64)        51264     \n",
      "                                                                 \n",
      " max_pooling2d_1 (MaxPooling  (None, 7, 7, 64)         0         \n",
      " 2D)                                                             \n",
      "                                                                 \n",
      " conv2d_2 (Conv2D)           (None, 7, 7, 128)         204928    \n",
      "                                                                 \n",
      " max_pooling2d_2 (MaxPooling  (None, 3, 3, 128)        0         \n",
      " 2D)                                                             \n",
      "                                                                 \n",
      " flatten (Flatten)           (None, 1152)              0         \n",
      "                                                                 \n",
      " dense (Dense)               (None, 128)               147584    \n",
      "                                                                 \n",
      " dense_1 (Dense)             (None, 24)                3096      \n",
      "                                                                 \n",
      "=================================================================\n",
      "Total params: 407,704\n",
      "Trainable params: 407,704\n",
      "Non-trainable params: 0\n",
      "_________________________________________________________________\n"
     ]
    }
   ],
   "source": [
    "model.summary()"
   ]
  },
  {
   "cell_type": "code",
   "execution_count": 18,
   "id": "9acfb354",
   "metadata": {},
   "outputs": [],
   "source": [
    "model.compile(loss='categorical_crossentropy', optimizer='adam', metrics=['accuracy'])"
   ]
  },
  {
   "cell_type": "code",
   "execution_count": 19,
   "id": "f9ebd211",
   "metadata": {},
   "outputs": [],
   "source": [
    "save_best_cb = keras.callbacks.ModelCheckpoint('models/initial-end-to-end', save_best_only=True) # Saves the best model so far\n",
    "early_stopping_cb = keras.callbacks.EarlyStopping(patience=5) # Interupts training when there is no progress"
   ]
  },
  {
   "cell_type": "code",
   "execution_count": 37,
   "id": "4451f28a",
   "metadata": {
    "scrolled": true
   },
   "outputs": [
    {
     "name": "stdout",
     "output_type": "stream",
     "text": [
      "Epoch 1/20\n",
      "782/782 [==============================] - ETA: 0s - loss: 0.8774 - accuracy: 0.7326"
     ]
    },
    {
     "name": "stderr",
     "output_type": "stream",
     "text": [
      "WARNING:absl:Found untraced functions such as _jit_compiled_convolution_op, _jit_compiled_convolution_op, _jit_compiled_convolution_op while saving (showing 3 of 3). These functions will not be directly callable after loading.\n"
     ]
    },
    {
     "name": "stdout",
     "output_type": "stream",
     "text": [
      "INFO:tensorflow:Assets written to: initial-end-to-end\\assets\n"
     ]
    },
    {
     "name": "stderr",
     "output_type": "stream",
     "text": [
      "INFO:tensorflow:Assets written to: initial-end-to-end\\assets\n"
     ]
    },
    {
     "name": "stdout",
     "output_type": "stream",
     "text": [
      "782/782 [==============================] - 26s 21ms/step - loss: 0.8774 - accuracy: 0.7326 - val_loss: 0.0267 - val_accuracy: 0.9935\n",
      "Epoch 2/20\n",
      "782/782 [==============================] - ETA: 0s - loss: 0.0051 - accuracy: 0.9994"
     ]
    },
    {
     "name": "stderr",
     "output_type": "stream",
     "text": [
      "WARNING:absl:Found untraced functions such as _jit_compiled_convolution_op, _jit_compiled_convolution_op, _jit_compiled_convolution_op while saving (showing 3 of 3). These functions will not be directly callable after loading.\n"
     ]
    },
    {
     "name": "stdout",
     "output_type": "stream",
     "text": [
      "INFO:tensorflow:Assets written to: initial-end-to-end\\assets\n"
     ]
    },
    {
     "name": "stderr",
     "output_type": "stream",
     "text": [
      "INFO:tensorflow:Assets written to: initial-end-to-end\\assets\n"
     ]
    },
    {
     "name": "stdout",
     "output_type": "stream",
     "text": [
      "782/782 [==============================] - 14s 18ms/step - loss: 0.0051 - accuracy: 0.9994 - val_loss: 0.0010 - val_accuracy: 1.0000\n",
      "Epoch 3/20\n",
      "778/782 [============================>.] - ETA: 0s - loss: 5.8701e-04 - accuracy: 1.0000"
     ]
    },
    {
     "name": "stderr",
     "output_type": "stream",
     "text": [
      "WARNING:absl:Found untraced functions such as _jit_compiled_convolution_op, _jit_compiled_convolution_op, _jit_compiled_convolution_op while saving (showing 3 of 3). These functions will not be directly callable after loading.\n"
     ]
    },
    {
     "name": "stdout",
     "output_type": "stream",
     "text": [
      "INFO:tensorflow:Assets written to: initial-end-to-end\\assets\n"
     ]
    },
    {
     "name": "stderr",
     "output_type": "stream",
     "text": [
      "INFO:tensorflow:Assets written to: initial-end-to-end\\assets\n"
     ]
    },
    {
     "name": "stdout",
     "output_type": "stream",
     "text": [
      "782/782 [==============================] - 12s 16ms/step - loss: 5.9076e-04 - accuracy: 1.0000 - val_loss: 4.7529e-04 - val_accuracy: 1.0000\n",
      "Epoch 4/20\n",
      "781/782 [============================>.] - ETA: 0s - loss: 0.0357 - accuracy: 0.9893"
     ]
    },
    {
     "name": "stderr",
     "output_type": "stream",
     "text": [
      "WARNING:absl:Found untraced functions such as _jit_compiled_convolution_op, _jit_compiled_convolution_op, _jit_compiled_convolution_op while saving (showing 3 of 3). These functions will not be directly callable after loading.\n"
     ]
    },
    {
     "name": "stdout",
     "output_type": "stream",
     "text": [
      "INFO:tensorflow:Assets written to: initial-end-to-end\\assets\n"
     ]
    },
    {
     "name": "stderr",
     "output_type": "stream",
     "text": [
      "INFO:tensorflow:Assets written to: initial-end-to-end\\assets\n"
     ]
    },
    {
     "name": "stdout",
     "output_type": "stream",
     "text": [
      "782/782 [==============================] - 12s 15ms/step - loss: 0.0357 - accuracy: 0.9893 - val_loss: 2.4525e-04 - val_accuracy: 1.0000\n",
      "Epoch 5/20\n",
      "779/782 [============================>.] - ETA: 0s - loss: 1.2933e-04 - accuracy: 1.0000"
     ]
    },
    {
     "name": "stderr",
     "output_type": "stream",
     "text": [
      "WARNING:absl:Found untraced functions such as _jit_compiled_convolution_op, _jit_compiled_convolution_op, _jit_compiled_convolution_op while saving (showing 3 of 3). These functions will not be directly callable after loading.\n"
     ]
    },
    {
     "name": "stdout",
     "output_type": "stream",
     "text": [
      "INFO:tensorflow:Assets written to: initial-end-to-end\\assets\n"
     ]
    },
    {
     "name": "stderr",
     "output_type": "stream",
     "text": [
      "INFO:tensorflow:Assets written to: initial-end-to-end\\assets\n"
     ]
    },
    {
     "name": "stdout",
     "output_type": "stream",
     "text": [
      "782/782 [==============================] - 14s 18ms/step - loss: 1.2916e-04 - accuracy: 1.0000 - val_loss: 1.0227e-04 - val_accuracy: 1.0000\n",
      "Epoch 6/20\n",
      "782/782 [==============================] - ETA: 0s - loss: 6.1190e-05 - accuracy: 1.0000"
     ]
    },
    {
     "name": "stderr",
     "output_type": "stream",
     "text": [
      "WARNING:absl:Found untraced functions such as _jit_compiled_convolution_op, _jit_compiled_convolution_op, _jit_compiled_convolution_op while saving (showing 3 of 3). These functions will not be directly callable after loading.\n"
     ]
    },
    {
     "name": "stdout",
     "output_type": "stream",
     "text": [
      "INFO:tensorflow:Assets written to: initial-end-to-end\\assets\n"
     ]
    },
    {
     "name": "stderr",
     "output_type": "stream",
     "text": [
      "INFO:tensorflow:Assets written to: initial-end-to-end\\assets\n"
     ]
    },
    {
     "name": "stdout",
     "output_type": "stream",
     "text": [
      "782/782 [==============================] - 13s 16ms/step - loss: 6.1190e-05 - accuracy: 1.0000 - val_loss: 5.5581e-05 - val_accuracy: 1.0000\n",
      "Epoch 7/20\n",
      "779/782 [============================>.] - ETA: 0s - loss: 3.5186e-05 - accuracy: 1.0000"
     ]
    },
    {
     "name": "stderr",
     "output_type": "stream",
     "text": [
      "WARNING:absl:Found untraced functions such as _jit_compiled_convolution_op, _jit_compiled_convolution_op, _jit_compiled_convolution_op while saving (showing 3 of 3). These functions will not be directly callable after loading.\n"
     ]
    },
    {
     "name": "stdout",
     "output_type": "stream",
     "text": [
      "INFO:tensorflow:Assets written to: initial-end-to-end\\assets\n"
     ]
    },
    {
     "name": "stderr",
     "output_type": "stream",
     "text": [
      "INFO:tensorflow:Assets written to: initial-end-to-end\\assets\n"
     ]
    },
    {
     "name": "stdout",
     "output_type": "stream",
     "text": [
      "782/782 [==============================] - 14s 18ms/step - loss: 3.5120e-05 - accuracy: 1.0000 - val_loss: 3.2938e-05 - val_accuracy: 1.0000\n",
      "Epoch 8/20\n",
      "778/782 [============================>.] - ETA: 0s - loss: 2.1345e-05 - accuracy: 1.0000"
     ]
    },
    {
     "name": "stderr",
     "output_type": "stream",
     "text": [
      "WARNING:absl:Found untraced functions such as _jit_compiled_convolution_op, _jit_compiled_convolution_op, _jit_compiled_convolution_op while saving (showing 3 of 3). These functions will not be directly callable after loading.\n"
     ]
    },
    {
     "name": "stdout",
     "output_type": "stream",
     "text": [
      "INFO:tensorflow:Assets written to: initial-end-to-end\\assets\n"
     ]
    },
    {
     "name": "stderr",
     "output_type": "stream",
     "text": [
      "INFO:tensorflow:Assets written to: initial-end-to-end\\assets\n"
     ]
    },
    {
     "name": "stdout",
     "output_type": "stream",
     "text": [
      "782/782 [==============================] - 12s 16ms/step - loss: 2.1343e-05 - accuracy: 1.0000 - val_loss: 2.0919e-05 - val_accuracy: 1.0000\n",
      "Epoch 9/20\n",
      "779/782 [============================>.] - ETA: 0s - loss: 1.3634e-05 - accuracy: 1.0000"
     ]
    },
    {
     "name": "stderr",
     "output_type": "stream",
     "text": [
      "WARNING:absl:Found untraced functions such as _jit_compiled_convolution_op, _jit_compiled_convolution_op, _jit_compiled_convolution_op while saving (showing 3 of 3). These functions will not be directly callable after loading.\n"
     ]
    },
    {
     "name": "stdout",
     "output_type": "stream",
     "text": [
      "INFO:tensorflow:Assets written to: initial-end-to-end\\assets\n"
     ]
    },
    {
     "name": "stderr",
     "output_type": "stream",
     "text": [
      "INFO:tensorflow:Assets written to: initial-end-to-end\\assets\n"
     ]
    },
    {
     "name": "stdout",
     "output_type": "stream",
     "text": [
      "782/782 [==============================] - 14s 18ms/step - loss: 1.3638e-05 - accuracy: 1.0000 - val_loss: 1.3809e-05 - val_accuracy: 1.0000\n",
      "Epoch 10/20\n",
      "778/782 [============================>.] - ETA: 0s - loss: 9.0006e-06 - accuracy: 1.0000"
     ]
    },
    {
     "name": "stderr",
     "output_type": "stream",
     "text": [
      "WARNING:absl:Found untraced functions such as _jit_compiled_convolution_op, _jit_compiled_convolution_op, _jit_compiled_convolution_op while saving (showing 3 of 3). These functions will not be directly callable after loading.\n"
     ]
    },
    {
     "name": "stdout",
     "output_type": "stream",
     "text": [
      "INFO:tensorflow:Assets written to: initial-end-to-end\\assets\n"
     ]
    },
    {
     "name": "stderr",
     "output_type": "stream",
     "text": [
      "INFO:tensorflow:Assets written to: initial-end-to-end\\assets\n"
     ]
    },
    {
     "name": "stdout",
     "output_type": "stream",
     "text": [
      "782/782 [==============================] - 13s 17ms/step - loss: 8.9994e-06 - accuracy: 1.0000 - val_loss: 8.8405e-06 - val_accuracy: 1.0000\n",
      "Epoch 11/20\n",
      "780/782 [============================>.] - ETA: 0s - loss: 5.8028e-06 - accuracy: 1.0000"
     ]
    },
    {
     "name": "stderr",
     "output_type": "stream",
     "text": [
      "WARNING:absl:Found untraced functions such as _jit_compiled_convolution_op, _jit_compiled_convolution_op, _jit_compiled_convolution_op while saving (showing 3 of 3). These functions will not be directly callable after loading.\n"
     ]
    },
    {
     "name": "stdout",
     "output_type": "stream",
     "text": [
      "INFO:tensorflow:Assets written to: initial-end-to-end\\assets\n"
     ]
    },
    {
     "name": "stderr",
     "output_type": "stream",
     "text": [
      "INFO:tensorflow:Assets written to: initial-end-to-end\\assets\n"
     ]
    },
    {
     "name": "stdout",
     "output_type": "stream",
     "text": [
      "782/782 [==============================] - 12s 15ms/step - loss: 5.8089e-06 - accuracy: 1.0000 - val_loss: 5.6665e-06 - val_accuracy: 1.0000\n",
      "Epoch 12/20\n",
      "782/782 [==============================] - ETA: 0s - loss: 3.8640e-06 - accuracy: 1.0000"
     ]
    },
    {
     "name": "stderr",
     "output_type": "stream",
     "text": [
      "WARNING:absl:Found untraced functions such as _jit_compiled_convolution_op, _jit_compiled_convolution_op, _jit_compiled_convolution_op while saving (showing 3 of 3). These functions will not be directly callable after loading.\n"
     ]
    },
    {
     "name": "stdout",
     "output_type": "stream",
     "text": [
      "INFO:tensorflow:Assets written to: initial-end-to-end\\assets\n"
     ]
    },
    {
     "name": "stderr",
     "output_type": "stream",
     "text": [
      "INFO:tensorflow:Assets written to: initial-end-to-end\\assets\n"
     ]
    },
    {
     "name": "stdout",
     "output_type": "stream",
     "text": [
      "782/782 [==============================] - 13s 16ms/step - loss: 3.8640e-06 - accuracy: 1.0000 - val_loss: 3.9938e-06 - val_accuracy: 1.0000\n",
      "Epoch 13/20\n",
      "781/782 [============================>.] - ETA: 0s - loss: 2.5768e-06 - accuracy: 1.0000"
     ]
    },
    {
     "name": "stderr",
     "output_type": "stream",
     "text": [
      "WARNING:absl:Found untraced functions such as _jit_compiled_convolution_op, _jit_compiled_convolution_op, _jit_compiled_convolution_op while saving (showing 3 of 3). These functions will not be directly callable after loading.\n"
     ]
    },
    {
     "name": "stdout",
     "output_type": "stream",
     "text": [
      "INFO:tensorflow:Assets written to: initial-end-to-end\\assets\n"
     ]
    },
    {
     "name": "stderr",
     "output_type": "stream",
     "text": [
      "INFO:tensorflow:Assets written to: initial-end-to-end\\assets\n"
     ]
    },
    {
     "name": "stdout",
     "output_type": "stream",
     "text": [
      "782/782 [==============================] - 13s 16ms/step - loss: 2.5762e-06 - accuracy: 1.0000 - val_loss: 2.6486e-06 - val_accuracy: 1.0000\n",
      "Epoch 14/20\n",
      "782/782 [==============================] - ETA: 0s - loss: 1.7138e-06 - accuracy: 1.0000"
     ]
    },
    {
     "name": "stderr",
     "output_type": "stream",
     "text": [
      "WARNING:absl:Found untraced functions such as _jit_compiled_convolution_op, _jit_compiled_convolution_op, _jit_compiled_convolution_op while saving (showing 3 of 3). These functions will not be directly callable after loading.\n"
     ]
    },
    {
     "name": "stdout",
     "output_type": "stream",
     "text": [
      "INFO:tensorflow:Assets written to: initial-end-to-end\\assets\n"
     ]
    },
    {
     "name": "stderr",
     "output_type": "stream",
     "text": [
      "INFO:tensorflow:Assets written to: initial-end-to-end\\assets\n"
     ]
    },
    {
     "name": "stdout",
     "output_type": "stream",
     "text": [
      "782/782 [==============================] - 12s 16ms/step - loss: 1.7138e-06 - accuracy: 1.0000 - val_loss: 1.8131e-06 - val_accuracy: 1.0000\n",
      "Epoch 15/20\n",
      "782/782 [==============================] - ETA: 0s - loss: 1.1717e-06 - accuracy: 1.0000"
     ]
    },
    {
     "name": "stderr",
     "output_type": "stream",
     "text": [
      "WARNING:absl:Found untraced functions such as _jit_compiled_convolution_op, _jit_compiled_convolution_op, _jit_compiled_convolution_op while saving (showing 3 of 3). These functions will not be directly callable after loading.\n"
     ]
    },
    {
     "name": "stdout",
     "output_type": "stream",
     "text": [
      "INFO:tensorflow:Assets written to: initial-end-to-end\\assets\n"
     ]
    },
    {
     "name": "stderr",
     "output_type": "stream",
     "text": [
      "INFO:tensorflow:Assets written to: initial-end-to-end\\assets\n"
     ]
    },
    {
     "name": "stdout",
     "output_type": "stream",
     "text": [
      "782/782 [==============================] - 12s 15ms/step - loss: 1.1717e-06 - accuracy: 1.0000 - val_loss: 1.2420e-06 - val_accuracy: 1.0000\n",
      "Epoch 16/20\n",
      "779/782 [============================>.] - ETA: 0s - loss: 7.6287e-07 - accuracy: 1.0000"
     ]
    },
    {
     "name": "stderr",
     "output_type": "stream",
     "text": [
      "WARNING:absl:Found untraced functions such as _jit_compiled_convolution_op, _jit_compiled_convolution_op, _jit_compiled_convolution_op while saving (showing 3 of 3). These functions will not be directly callable after loading.\n"
     ]
    },
    {
     "name": "stdout",
     "output_type": "stream",
     "text": [
      "INFO:tensorflow:Assets written to: initial-end-to-end\\assets\n"
     ]
    },
    {
     "name": "stderr",
     "output_type": "stream",
     "text": [
      "INFO:tensorflow:Assets written to: initial-end-to-end\\assets\n"
     ]
    },
    {
     "name": "stdout",
     "output_type": "stream",
     "text": [
      "782/782 [==============================] - 12s 15ms/step - loss: 7.6705e-07 - accuracy: 1.0000 - val_loss: 8.0546e-07 - val_accuracy: 1.0000\n",
      "Epoch 17/20\n",
      "782/782 [==============================] - ETA: 0s - loss: 5.0912e-07 - accuracy: 1.0000"
     ]
    },
    {
     "name": "stderr",
     "output_type": "stream",
     "text": [
      "WARNING:absl:Found untraced functions such as _jit_compiled_convolution_op, _jit_compiled_convolution_op, _jit_compiled_convolution_op while saving (showing 3 of 3). These functions will not be directly callable after loading.\n"
     ]
    },
    {
     "name": "stdout",
     "output_type": "stream",
     "text": [
      "INFO:tensorflow:Assets written to: initial-end-to-end\\assets\n"
     ]
    },
    {
     "name": "stderr",
     "output_type": "stream",
     "text": [
      "INFO:tensorflow:Assets written to: initial-end-to-end\\assets\n"
     ]
    },
    {
     "name": "stdout",
     "output_type": "stream",
     "text": [
      "782/782 [==============================] - 13s 16ms/step - loss: 5.0912e-07 - accuracy: 1.0000 - val_loss: 5.3233e-07 - val_accuracy: 1.0000\n",
      "Epoch 18/20\n",
      "782/782 [==============================] - ETA: 0s - loss: 3.4244e-07 - accuracy: 1.0000"
     ]
    },
    {
     "name": "stderr",
     "output_type": "stream",
     "text": [
      "WARNING:absl:Found untraced functions such as _jit_compiled_convolution_op, _jit_compiled_convolution_op, _jit_compiled_convolution_op while saving (showing 3 of 3). These functions will not be directly callable after loading.\n"
     ]
    },
    {
     "name": "stdout",
     "output_type": "stream",
     "text": [
      "INFO:tensorflow:Assets written to: initial-end-to-end\\assets\n"
     ]
    },
    {
     "name": "stderr",
     "output_type": "stream",
     "text": [
      "INFO:tensorflow:Assets written to: initial-end-to-end\\assets\n"
     ]
    },
    {
     "name": "stdout",
     "output_type": "stream",
     "text": [
      "782/782 [==============================] - 12s 15ms/step - loss: 3.4244e-07 - accuracy: 1.0000 - val_loss: 4.0079e-07 - val_accuracy: 1.0000\n",
      "Epoch 19/20\n",
      "779/782 [============================>.] - ETA: 0s - loss: 2.2810e-07 - accuracy: 1.0000"
     ]
    },
    {
     "name": "stderr",
     "output_type": "stream",
     "text": [
      "WARNING:absl:Found untraced functions such as _jit_compiled_convolution_op, _jit_compiled_convolution_op, _jit_compiled_convolution_op while saving (showing 3 of 3). These functions will not be directly callable after loading.\n"
     ]
    },
    {
     "name": "stdout",
     "output_type": "stream",
     "text": [
      "INFO:tensorflow:Assets written to: initial-end-to-end\\assets\n"
     ]
    },
    {
     "name": "stderr",
     "output_type": "stream",
     "text": [
      "INFO:tensorflow:Assets written to: initial-end-to-end\\assets\n"
     ]
    },
    {
     "name": "stdout",
     "output_type": "stream",
     "text": [
      "782/782 [==============================] - 11s 15ms/step - loss: 2.2815e-07 - accuracy: 1.0000 - val_loss: 2.9071e-07 - val_accuracy: 1.0000\n",
      "Epoch 20/20\n",
      "780/782 [============================>.] - ETA: 0s - loss: 1.5193e-07 - accuracy: 1.0000"
     ]
    },
    {
     "name": "stderr",
     "output_type": "stream",
     "text": [
      "WARNING:absl:Found untraced functions such as _jit_compiled_convolution_op, _jit_compiled_convolution_op, _jit_compiled_convolution_op while saving (showing 3 of 3). These functions will not be directly callable after loading.\n"
     ]
    },
    {
     "name": "stdout",
     "output_type": "stream",
     "text": [
      "INFO:tensorflow:Assets written to: initial-end-to-end\\assets\n"
     ]
    },
    {
     "name": "stderr",
     "output_type": "stream",
     "text": [
      "INFO:tensorflow:Assets written to: initial-end-to-end\\assets\n"
     ]
    },
    {
     "name": "stdout",
     "output_type": "stream",
     "text": [
      "\b\b\b\b\b\b\b\b\b\b\b\b\b\b\b\b\b\b\b\b\b\b\b\b\b\b\b\b\b\b\b\b\b\b\b\b\b\b\b\b\b\b\b\b\b\b\b\b\b\b\b\b\b\b\b\b\b\b\b\b\b\b\b\b\b\b\b\b\b\b\b\b\b\b\b\b\b\b\b\b\b\b\b\b\b\b\b\b\r",
      "782/782 [==============================] - 11s 15ms/step - loss: 1.5183e-07 - accuracy: 1.0000 - val_loss: 1.6801e-07 - val_accuracy: 1.0000\n"
     ]
    }
   ],
   "source": [
    "history = model.fit(X_train, y_train, epochs=20, validation_data=(X_valid, y_valid), callbacks=[save_best_cb, early_stopping_cb])"
   ]
  },
  {
   "cell_type": "code",
   "execution_count": 38,
   "id": "c5e12a49",
   "metadata": {
    "scrolled": true
   },
   "outputs": [
    {
     "data": {
      "text/plain": [
       "{'loss': [0.8774073719978333,\n",
       "  0.005074513144791126,\n",
       "  0.0005907623562961817,\n",
       "  0.035671062767505646,\n",
       "  0.00012915894330944866,\n",
       "  6.119009776739404e-05,\n",
       "  3.5120148822898045e-05,\n",
       "  2.134285750798881e-05,\n",
       "  1.3638154086947907e-05,\n",
       "  8.999433703138493e-06,\n",
       "  5.808890364278341e-06,\n",
       "  3.864049176627304e-06,\n",
       "  2.576162614786881e-06,\n",
       "  1.7137577970061102e-06,\n",
       "  1.1716660992533434e-06,\n",
       "  7.670482204957807e-07,\n",
       "  5.091210937280266e-07,\n",
       "  3.424441104016296e-07,\n",
       "  2.2814701594597864e-07,\n",
       "  1.518342855888477e-07],\n",
       " 'accuracy': [0.7325999736785889,\n",
       "  0.9993600249290466,\n",
       "  1.0,\n",
       "  0.9892799854278564,\n",
       "  1.0,\n",
       "  1.0,\n",
       "  1.0,\n",
       "  1.0,\n",
       "  1.0,\n",
       "  1.0,\n",
       "  1.0,\n",
       "  1.0,\n",
       "  1.0,\n",
       "  1.0,\n",
       "  1.0,\n",
       "  1.0,\n",
       "  1.0,\n",
       "  1.0,\n",
       "  1.0,\n",
       "  1.0],\n",
       " 'val_loss': [0.02665344439446926,\n",
       "  0.0010351891396567225,\n",
       "  0.0004752879322040826,\n",
       "  0.00024525265325792134,\n",
       "  0.00010227379971183836,\n",
       "  5.5580920161446556e-05,\n",
       "  3.293823101557791e-05,\n",
       "  2.091940950776916e-05,\n",
       "  1.3808692528982647e-05,\n",
       "  8.840480404614937e-06,\n",
       "  5.666528068104526e-06,\n",
       "  3.9937822293723e-06,\n",
       "  2.64862956100842e-06,\n",
       "  1.8130501757696038e-06,\n",
       "  1.2420367738741334e-06,\n",
       "  8.05462889275077e-07,\n",
       "  5.323349228092411e-07,\n",
       "  4.007931124760944e-07,\n",
       "  2.907113696437591e-07,\n",
       "  1.6800919411252835e-07],\n",
       " 'val_accuracy': [0.9934827089309692,\n",
       "  1.0,\n",
       "  1.0,\n",
       "  1.0,\n",
       "  1.0,\n",
       "  1.0,\n",
       "  1.0,\n",
       "  1.0,\n",
       "  1.0,\n",
       "  1.0,\n",
       "  1.0,\n",
       "  1.0,\n",
       "  1.0,\n",
       "  1.0,\n",
       "  1.0,\n",
       "  1.0,\n",
       "  1.0,\n",
       "  1.0,\n",
       "  1.0,\n",
       "  1.0]}"
      ]
     },
     "execution_count": 38,
     "metadata": {},
     "output_type": "execute_result"
    }
   ],
   "source": [
    "history.history # Contains the training related information for each epoch"
   ]
  },
  {
   "cell_type": "code",
   "execution_count": 66,
   "id": "c3aa7673",
   "metadata": {},
   "outputs": [],
   "source": [
    "# Saving the history object\n",
    "\n",
    "# with open('models/intial-end-to-end-history', 'wb') as history_file:\n",
    "#     pickle.dump(history.history, history_file)"
   ]
  },
  {
   "cell_type": "code",
   "execution_count": 20,
   "id": "acc714c0",
   "metadata": {
    "scrolled": true
   },
   "outputs": [
    {
     "data": {
      "text/plain": [
       "{'loss': [0.8774073719978333,\n",
       "  0.005074513144791126,\n",
       "  0.0005907623562961817,\n",
       "  0.035671062767505646,\n",
       "  0.00012915894330944866,\n",
       "  6.119009776739404e-05,\n",
       "  3.5120148822898045e-05,\n",
       "  2.134285750798881e-05,\n",
       "  1.3638154086947907e-05,\n",
       "  8.999433703138493e-06,\n",
       "  5.808890364278341e-06,\n",
       "  3.864049176627304e-06,\n",
       "  2.576162614786881e-06,\n",
       "  1.7137577970061102e-06,\n",
       "  1.1716660992533434e-06,\n",
       "  7.670482204957807e-07,\n",
       "  5.091210937280266e-07,\n",
       "  3.424441104016296e-07,\n",
       "  2.2814701594597864e-07,\n",
       "  1.518342855888477e-07],\n",
       " 'accuracy': [0.7325999736785889,\n",
       "  0.9993600249290466,\n",
       "  1.0,\n",
       "  0.9892799854278564,\n",
       "  1.0,\n",
       "  1.0,\n",
       "  1.0,\n",
       "  1.0,\n",
       "  1.0,\n",
       "  1.0,\n",
       "  1.0,\n",
       "  1.0,\n",
       "  1.0,\n",
       "  1.0,\n",
       "  1.0,\n",
       "  1.0,\n",
       "  1.0,\n",
       "  1.0,\n",
       "  1.0,\n",
       "  1.0],\n",
       " 'val_loss': [0.02665344439446926,\n",
       "  0.0010351891396567225,\n",
       "  0.0004752879322040826,\n",
       "  0.00024525265325792134,\n",
       "  0.00010227379971183836,\n",
       "  5.5580920161446556e-05,\n",
       "  3.293823101557791e-05,\n",
       "  2.091940950776916e-05,\n",
       "  1.3808692528982647e-05,\n",
       "  8.840480404614937e-06,\n",
       "  5.666528068104526e-06,\n",
       "  3.9937822293723e-06,\n",
       "  2.64862956100842e-06,\n",
       "  1.8130501757696038e-06,\n",
       "  1.2420367738741334e-06,\n",
       "  8.05462889275077e-07,\n",
       "  5.323349228092411e-07,\n",
       "  4.007931124760944e-07,\n",
       "  2.907113696437591e-07,\n",
       "  1.6800919411252835e-07],\n",
       " 'val_accuracy': [0.9934827089309692,\n",
       "  1.0,\n",
       "  1.0,\n",
       "  1.0,\n",
       "  1.0,\n",
       "  1.0,\n",
       "  1.0,\n",
       "  1.0,\n",
       "  1.0,\n",
       "  1.0,\n",
       "  1.0,\n",
       "  1.0,\n",
       "  1.0,\n",
       "  1.0,\n",
       "  1.0,\n",
       "  1.0,\n",
       "  1.0,\n",
       "  1.0,\n",
       "  1.0,\n",
       "  1.0]}"
      ]
     },
     "execution_count": 20,
     "metadata": {},
     "output_type": "execute_result"
    }
   ],
   "source": [
    "h = np.load('models/intial-end-to-end-history', allow_pickle=True)\n",
    "h"
   ]
  },
  {
   "cell_type": "code",
   "execution_count": 21,
   "id": "96517c3b",
   "metadata": {},
   "outputs": [],
   "source": [
    "best_model = keras.models.load_model('models/initial-end-to-end') # Model with best set of parameters not necessarily the model at the last epoch of training"
   ]
  },
  {
   "cell_type": "code",
   "execution_count": 22,
   "id": "94301555",
   "metadata": {},
   "outputs": [
    {
     "data": {
      "text/plain": [
       "<matplotlib.legend.Legend at 0x1e294213c40>"
      ]
     },
     "execution_count": 22,
     "metadata": {},
     "output_type": "execute_result"
    },
    {
     "data": {
      "image/png": "[encoded data removed]",
      "text/plain": [
       "<Figure size 720x360 with 1 Axes>"
      ]
     },
     "metadata": {
      "needs_background": "light"
     },
     "output_type": "display_data"
    }
   ],
   "source": [
    "fig, ax = plt.subplots(figsize=(10, 5))\n",
    "n_epochs = len(h['loss'])\n",
    "ax.plot(range(1, n_epochs+1), h['loss'], color='b', label='train_loss')\n",
    "ax.plot(range(1, n_epochs+1), h['val_loss'], color='c', label='val_loss')\n",
    "ax.plot(range(1, n_epochs+1), h['accuracy'], color='b', label='train_accuracy', linestyle='--')\n",
    "ax.plot(range(1, n_epochs+1), h['val_accuracy'], color='c', label='val_accuracy', linestyle='--')\n",
    "ax.set_xticks(range(1, n_epochs+1))\n",
    "ax.legend()"
   ]
  },
  {
   "cell_type": "code",
   "execution_count": 23,
   "id": "1cceeb24",
   "metadata": {},
   "outputs": [
    {
     "data": {
      "text/plain": [
       "<matplotlib.legend.Legend at 0x1e2ab1603d0>"
      ]
     },
     "execution_count": 23,
     "metadata": {},
     "output_type": "execute_result"
    },
    {
     "data": {
      "image/png": "[encoded data removed]",
      "text/plain": [
       "<Figure size 720x360 with 1 Axes>"
      ]
     },
     "metadata": {
      "needs_background": "light"
     },
     "output_type": "display_data"
    }
   ],
   "source": [
    "# Training Loss Correction\n",
    "\n",
    "fig, ax = plt.subplots(figsize=(10, 5))\n",
    "n_epochs = len(h['loss'])\n",
    "\n",
    "# Shift training loss by 0.5 as training loss is measured during the epoch and validation loss is measured after the epoch\n",
    "ax.plot(np.arange(n_epochs)-0.5, h['loss'], color='b', label='train_loss')\n",
    "ax.plot(range(1, n_epochs+1), h['val_loss'], color='r', label='val_loss')\n",
    "ax.plot(range(1, n_epochs+1), h['accuracy'], color='b', label='train_accuracy', linestyle='--')\n",
    "ax.plot(range(1, n_epochs+1), h['val_accuracy'], color='r', label='val_accuracy', linestyle='--')\n",
    "ax.set_xlim(0, n_epochs)\n",
    "ax.set_xticks(range(1, n_epochs+1))\n",
    "ax.legend()"
   ]
  },
  {
   "cell_type": "code",
   "execution_count": 50,
   "id": "b7e5d4b0",
   "metadata": {},
   "outputs": [],
   "source": [
    "# Defining a function the get the plots\n",
    "def get_train_val_plots(h, yticks=None, figsize=(10, 5)):\n",
    "    # h: Any dictionary like the history.history\n",
    "    \n",
    "    fig, ax = plt.subplots(figsize=figsize)\n",
    "    n_epochs = len(h['loss'])\n",
    "    \n",
    "    ax.plot(np.arange(n_epochs)-0.5, h['loss'], color='b', label='train_loss')\n",
    "    ax.plot(range(1, n_epochs+1), h['val_loss'], color='r', label='val_loss')\n",
    "    ax.plot(range(1, n_epochs+1), h['accuracy'], color='b', label='train_accuracy', linestyle='--')\n",
    "    ax.plot(range(1, n_epochs+1), h['val_accuracy'], color='r', label='val_accuracy', linestyle='--')\n",
    "    ax.set_xlim(0, n_epochs)\n",
    "    ax.set_xticks(range(1, n_epochs+1))\n",
    "    if yticks is not None:\n",
    "        ax.set_yticks(yticks)\n",
    "    ax.legend()"
   ]
  },
  {
   "cell_type": "code",
   "execution_count": 25,
   "id": "6f1885f7",
   "metadata": {},
   "outputs": [
    {
     "data": {
      "image/png": "[encoded data removed]",
      "text/plain": [
       "<Figure size 720x360 with 1 Axes>"
      ]
     },
     "metadata": {
      "needs_background": "light"
     },
     "output_type": "display_data"
    }
   ],
   "source": [
    "get_train_val_plots(h)"
   ]
  },
  {
   "cell_type": "code",
   "execution_count": 26,
   "id": "aadf9622",
   "metadata": {},
   "outputs": [],
   "source": [
    "test_df = pd.read_csv('data/alphabet/sign_mnist_test.csv') # Load the test data"
   ]
  },
  {
   "cell_type": "code",
   "execution_count": 27,
   "id": "c22ee404",
   "metadata": {},
   "outputs": [],
   "source": [
    "X_test, y_test = test_df.drop('label', axis=1), test_df['label']"
   ]
  },
  {
   "cell_type": "code",
   "execution_count": 28,
   "id": "50fcf741",
   "metadata": {},
   "outputs": [],
   "source": [
    "X_test = tf.reshape(X_test, [-1, 28, 28, 1])"
   ]
  },
  {
   "cell_type": "code",
   "execution_count": 29,
   "id": "04d31bf4",
   "metadata": {},
   "outputs": [],
   "source": [
    "y_test = label_binarizer.transform(y_test)"
   ]
  },
  {
   "cell_type": "code",
   "execution_count": 30,
   "id": "4c761190",
   "metadata": {
    "scrolled": true
   },
   "outputs": [
    {
     "name": "stdout",
     "output_type": "stream",
     "text": [
      "225/225 [==============================] - 32s 14ms/step - loss: 87.9661 - accuracy: 0.9405\n"
     ]
    },
    {
     "data": {
      "text/plain": [
       "[87.96614074707031, 0.9404628872871399]"
      ]
     },
     "execution_count": 30,
     "metadata": {},
     "output_type": "execute_result"
    }
   ],
   "source": [
    "best_model.evaluate(X_test, y_test)"
   ]
  },
  {
   "cell_type": "markdown",
   "id": "9085b7ff",
   "metadata": {},
   "source": [
    "Accuracy: 94%"
   ]
  },
  {
   "cell_type": "code",
   "execution_count": 23,
   "id": "685402ff",
   "metadata": {},
   "outputs": [],
   "source": [
    "# Preprocesses the input and evaluates the model\n",
    "\n",
    "def evaluate_model(model, X_test, y_test):\n",
    "    X_test_reshape = tf.reshape(X_test, [-1, 28, 28, 1])\n",
    "    y_test_labels = label_binarizer.transform(y_test)\n",
    "    results = model.evaluate(X_test_reshape, y_test_labels)\n",
    "    print(f'Loss: {results[0]:.3f} Accuracy: {results[1]:.3f}')"
   ]
  },
  {
   "cell_type": "code",
   "execution_count": 32,
   "id": "af272eed",
   "metadata": {},
   "outputs": [
    {
     "name": "stdout",
     "output_type": "stream",
     "text": [
      "225/225 [==============================] - 2s 10ms/step - loss: 87.9661 - accuracy: 0.9405\n",
      "Loss: 87.966 Accuracy: 0.940\n"
     ]
    }
   ],
   "source": [
    "results = evaluate_model(best_model, test_df.drop('label', axis=1), test_df['label'])"
   ]
  },
  {
   "cell_type": "markdown",
   "id": "3edb545c",
   "metadata": {},
   "source": [
    "### Converting Images to a Sentence"
   ]
  },
  {
   "cell_type": "code",
   "execution_count": 205,
   "id": "70c6d7cf",
   "metadata": {},
   "outputs": [],
   "source": [
    "test_df = pd.read_csv('data/alphabet/sign_mnist_test.csv') # Load the test data"
   ]
  },
  {
   "cell_type": "code",
   "execution_count": 206,
   "id": "fcf80126",
   "metadata": {},
   "outputs": [],
   "source": [
    "X_test, y_test = test_df.drop('label', axis=1), test_df['label']"
   ]
  },
  {
   "cell_type": "code",
   "execution_count": 35,
   "id": "c01b2e70",
   "metadata": {},
   "outputs": [],
   "source": [
    "X_test = tf.reshape(X_test, [-1, 28, 28, 1])"
   ]
  },
  {
   "cell_type": "code",
   "execution_count": 36,
   "id": "92beca5f",
   "metadata": {},
   "outputs": [],
   "source": [
    "d = {chr(ord('a') + i):i for i in range(26)}\n",
    "d_rev = {i:chr(ord('a') + i) for i in range(26)}\n",
    "d[' '] = d_rev[' '] = ' '"
   ]
  },
  {
   "cell_type": "code",
   "execution_count": 37,
   "id": "4e7518e4",
   "metadata": {},
   "outputs": [
    {
     "name": "stdout",
     "output_type": "stream",
     "text": [
      "18 8 6 13   11 0 13 6 20 0 6 4 "
     ]
    }
   ],
   "source": [
    "sentence = 'sign language'\n",
    "\n",
    "for i in sentence:\n",
    "    print(d[i], end=' ')"
   ]
  },
  {
   "cell_type": "code",
   "execution_count": 36,
   "id": "4f429ea0",
   "metadata": {},
   "outputs": [
    {
     "name": "stdout",
     "output_type": "stream",
     "text": [
      "1/1 [==============================] - 0s 288ms/step\n"
     ]
    },
    {
     "data": {
      "text/plain": [
       "array([[0., 0., 0., 0., 0., 0., 1., 0., 0., 0., 0., 0., 0., 0., 0., 0.,\n",
       "        0., 0., 0., 0., 0., 0., 0., 0.]], dtype=float32)"
      ]
     },
     "execution_count": 36,
     "metadata": {},
     "output_type": "execute_result"
    }
   ],
   "source": [
    "best_model.predict(tf.reshape(X_test[0], [-1, 28, 28, 1]))"
   ]
  },
  {
   "cell_type": "code",
   "execution_count": 43,
   "id": "2f09fb2d",
   "metadata": {},
   "outputs": [
    {
     "name": "stdout",
     "output_type": "stream",
     "text": [
      "1/1 [==============================] - 0s 48ms/step\n",
      "1/1 [==============================] - 0s 39ms/step\n",
      "1/1 [==============================] - 0s 39ms/step\n",
      "1/1 [==============================] - 0s 40ms/step\n",
      "1/1 [==============================] - 0s 38ms/step\n",
      "1/1 [==============================] - 0s 37ms/step\n",
      "1/1 [==============================] - 0s 44ms/step\n",
      "1/1 [==============================] - 0s 58ms/step\n",
      "1/1 [==============================] - 0s 67ms/step\n",
      "1/1 [==============================] - 0s 38ms/step\n",
      "1/1 [==============================] - 0s 47ms/step\n",
      "1/1 [==============================] - 0s 38ms/step\n",
      "sign language\n"
     ]
    }
   ],
   "source": [
    "images_taken = []\n",
    "result = ''\n",
    "\n",
    "for i in sentence:\n",
    "    if i != ' ':\n",
    "        char_index = np.random.choice(y_test[y_test==ord(i)-ord('a')].index)\n",
    "        images_taken.append(char_index)\n",
    "        y_pred = best_model.predict(tf.reshape(X_test[char_index], [-1, 28, 28, 1]))\n",
    "        result += d_rev[label_binarizer.inverse_transform(y_pred)[0]]\n",
    "    else:\n",
    "        result += ' '\n",
    "print(result)"
   ]
  },
  {
   "cell_type": "code",
   "execution_count": 44,
   "id": "f19190d7",
   "metadata": {
    "scrolled": false
   },
   "outputs": [
    {
     "data": {
      "image/png": "[encoded data removed]",
      "text/plain": [
       "<Figure size 1440x1440 with 4 Axes>"
      ]
     },
     "metadata": {
      "needs_background": "light"
     },
     "output_type": "display_data"
    },
    {
     "data": {
      "image/png": "[encoded data removed]",
      "text/plain": [
       "<Figure size 1440x1440 with 8 Axes>"
      ]
     },
     "metadata": {
      "needs_background": "light"
     },
     "output_type": "display_data"
    }
   ],
   "source": [
    "# Visualizing the test images\n",
    "images_taken_dup = list(reversed(images_taken))\n",
    "for word in sentence.split():\n",
    "    fig, ax = plt.subplots(1, len(word), figsize=(20, 20))\n",
    "    for i in range(len(word)):\n",
    "        ax[i].imshow(X_test[images_taken_dup.pop()], cmap='gray')\n",
    "        ax[i].set_title(word[i])"
   ]
  },
  {
   "cell_type": "code",
   "execution_count": 39,
   "id": "fd0be37f",
   "metadata": {},
   "outputs": [],
   "source": [
    "def test_on_sentence(model, sentence, X_test, y_test, figsize=(20, 20)):\n",
    "    # Random images are taken from X_test along with the corresponding labels in y_test\n",
    "    # based on the letters in the sentence.\n",
    "    # These images are fed to the model and its output is printed\n",
    "    \n",
    "    d = {chr(ord('a') + i):i for i in range(26)}\n",
    "    d_rev = {i:chr(ord('a') + i) for i in range(26)}\n",
    "    d[' '] = d_rev[' '] = ' '\n",
    "    \n",
    "    \n",
    "    images_taken = []\n",
    "    result = ''\n",
    "    \n",
    "    X_test_reshape = tf.reshape(X_test, [-1, 28, 28, 1])\n",
    "    \n",
    "\n",
    "    for i in sentence:\n",
    "        if i != ' ':\n",
    "            char_index = np.random.choice(y_test[y_test==ord(i)-ord('a')].index)\n",
    "            images_taken.append(char_index)\n",
    "            y_pred = model.predict(tf.reshape(X_test_reshape[char_index], [1, 28, 28, 1]))\n",
    "            result += d_rev[label_binarizer.inverse_transform(y_pred)[0]]\n",
    "        else:\n",
    "            result += ' '\n",
    "            \n",
    "    print(f'The actual sentence is \"{sentence}\"')\n",
    "    print(f'The predicted sentence is \"{result}\"')\n",
    "        \n",
    "    images_taken.reverse()\n",
    "    for word in sentence.split():\n",
    "        fig, ax = plt.subplots(1, len(word), figsize=figsize)\n",
    "        for i in range(len(word)):\n",
    "            ax[i].imshow(X_test_reshape[images_taken.pop()], cmap='gray')\n",
    "            ax[i].set_title(word[i])"
   ]
  },
  {
   "cell_type": "code",
   "execution_count": 112,
   "id": "d8c07946",
   "metadata": {},
   "outputs": [
    {
     "name": "stdout",
     "output_type": "stream",
     "text": [
      "1/1 [==============================] - 0s 13ms/step\n",
      "1/1 [==============================] - 0s 17ms/step\n",
      "1/1 [==============================] - 0s 16ms/step\n",
      "1/1 [==============================] - 0s 16ms/step\n",
      "1/1 [==============================] - 0s 19ms/step\n",
      "1/1 [==============================] - 0s 17ms/step\n",
      "1/1 [==============================] - 0s 16ms/step\n",
      "1/1 [==============================] - 0s 14ms/step\n",
      "1/1 [==============================] - 0s 15ms/step\n",
      "1/1 [==============================] - 0s 16ms/step\n",
      "1/1 [==============================] - 0s 15ms/step\n",
      "1/1 [==============================] - 0s 16ms/step\n",
      "The actual sentence is \"sign language\"\n",
      "The predicted sentence is \"sign language\"\n"
     ]
    },
    {
     "data": {
      "image/png": "[encoded data removed]",
      "text/plain": [
       "<Figure size 1440x1440 with 4 Axes>"
      ]
     },
     "metadata": {
      "needs_background": "light"
     },
     "output_type": "display_data"
    },
    {
     "data": {
      "image/png": "[encoded data removed]",
      "text/plain": [
       "<Figure size 1440x1440 with 8 Axes>"
      ]
     },
     "metadata": {
      "needs_background": "light"
     },
     "output_type": "display_data"
    }
   ],
   "source": [
    "test_on_sentence(best_model, 'sign language', test_df.drop('label', axis=1), test_df['label'])"
   ]
  },
  {
   "cell_type": "markdown",
   "id": "d9b0ecea",
   "metadata": {},
   "source": [
    "# Initial End-to-End Workflow (End)"
   ]
  },
  {
   "cell_type": "markdown",
   "id": "b127a589",
   "metadata": {},
   "source": [
    "### Hyperparameter Tuning"
   ]
  },
  {
   "cell_type": "markdown",
   "id": "2d26fb0e",
   "metadata": {},
   "source": [
    "1. Convolution and Max Pooling Pairs\n",
    "2. Number of feature maps\n",
    "3. Dropout\n",
    "4. Data Augmentation"
   ]
  },
  {
   "cell_type": "markdown",
   "id": "393e2a7f",
   "metadata": {},
   "source": [
    "### Convolution and Max Pooling Pairs"
   ]
  },
  {
   "cell_type": "markdown",
   "id": "640290aa",
   "metadata": {},
   "source": [
    "Before flattening\n",
    "\n",
    "\n",
    "1. For pair = 1 -> Output to the dense layer will be of the shape `(None, 14, 14, 32)`\n",
    "2. For pair = 2 -> Output to the dense layer will be of the shape `(None, 7, 7, 64)`\n",
    "3. For pair = 3 -> Output to the dense layer will be of the shape `(None, 3, 3, 96)`\n",
    "4. For pair = 4 -> Output to the dense layer will be of the shape `(None, 1, 1, 128)`\n",
    "\n",
    "As the output shape rapidly decreases for the pair = 4 it better to choose among the pair = 1, 2 or 3"
   ]
  },
  {
   "cell_type": "code",
   "execution_count": 29,
   "id": "1f392588",
   "metadata": {},
   "outputs": [],
   "source": [
    "# 20% Validation Split\n",
    "\n",
    "X_train, X_valid = X[:19500], X[19500:]\n",
    "y_train, y_valid = y[:19500], y[19500:]"
   ]
  },
  {
   "cell_type": "code",
   "execution_count": 30,
   "id": "4e7b1f4f",
   "metadata": {},
   "outputs": [],
   "source": [
    "test_df = pd.read_csv('data/alphabet/sign_mnist_test.csv') # Load the test data\n",
    "X_test, y_test = test_df.drop('label', axis=1), test_df['label']"
   ]
  },
  {
   "cell_type": "code",
   "execution_count": 31,
   "id": "e5583291",
   "metadata": {
    "scrolled": true
   },
   "outputs": [
    {
     "name": "stdout",
     "output_type": "stream",
     "text": [
      "Epoch 1/15\n",
      "598/610 [============================>.] - ETA: 0s - loss: 1.2888 - accuracy: 0.6378"
     ]
    },
    {
     "name": "stderr",
     "output_type": "stream",
     "text": [
      "WARNING:absl:Found untraced functions such as _jit_compiled_convolution_op while saving (showing 1 of 1). These functions will not be directly callable after loading.\n"
     ]
    },
    {
     "name": "stdout",
     "output_type": "stream",
     "text": [
      "INFO:tensorflow:Assets written to: models\\experiment-1-1\\assets\n"
     ]
    },
    {
     "name": "stderr",
     "output_type": "stream",
     "text": [
      "INFO:tensorflow:Assets written to: models\\experiment-1-1\\assets\n"
     ]
    },
    {
     "name": "stdout",
     "output_type": "stream",
     "text": [
      "610/610 [==============================] - 4s 6ms/step - loss: 1.2717 - accuracy: 0.6428 - val_loss: 0.3912 - val_accuracy: 0.9062\n",
      "Epoch 2/15\n",
      "605/610 [============================>.] - ETA: 0s - loss: 0.2074 - accuracy: 0.9560"
     ]
    },
    {
     "name": "stderr",
     "output_type": "stream",
     "text": [
      "WARNING:absl:Found untraced functions such as _jit_compiled_convolution_op while saving (showing 1 of 1). These functions will not be directly callable after loading.\n"
     ]
    },
    {
     "name": "stdout",
     "output_type": "stream",
     "text": [
      "INFO:tensorflow:Assets written to: models\\experiment-1-1\\assets\n"
     ]
    },
    {
     "name": "stderr",
     "output_type": "stream",
     "text": [
      "INFO:tensorflow:Assets written to: models\\experiment-1-1\\assets\n"
     ]
    },
    {
     "name": "stdout",
     "output_type": "stream",
     "text": [
      "610/610 [==============================] - 4s 6ms/step - loss: 0.2066 - accuracy: 0.9562 - val_loss: 0.0849 - val_accuracy: 0.9912\n",
      "Epoch 3/15\n",
      "608/610 [============================>.] - ETA: 0s - loss: 0.0515 - accuracy: 0.9958"
     ]
    },
    {
     "name": "stderr",
     "output_type": "stream",
     "text": [
      "WARNING:absl:Found untraced functions such as _jit_compiled_convolution_op while saving (showing 1 of 1). These functions will not be directly callable after loading.\n"
     ]
    },
    {
     "name": "stdout",
     "output_type": "stream",
     "text": [
      "INFO:tensorflow:Assets written to: models\\experiment-1-1\\assets\n"
     ]
    },
    {
     "name": "stderr",
     "output_type": "stream",
     "text": [
      "INFO:tensorflow:Assets written to: models\\experiment-1-1\\assets\n"
     ]
    },
    {
     "name": "stdout",
     "output_type": "stream",
     "text": [
      "610/610 [==============================] - 5s 9ms/step - loss: 0.0514 - accuracy: 0.9958 - val_loss: 0.0299 - val_accuracy: 0.9982\n",
      "Epoch 4/15\n",
      "609/610 [============================>.] - ETA: 0s - loss: 0.0165 - accuracy: 0.9997"
     ]
    },
    {
     "name": "stderr",
     "output_type": "stream",
     "text": [
      "WARNING:absl:Found untraced functions such as _jit_compiled_convolution_op while saving (showing 1 of 1). These functions will not be directly callable after loading.\n"
     ]
    },
    {
     "name": "stdout",
     "output_type": "stream",
     "text": [
      "INFO:tensorflow:Assets written to: models\\experiment-1-1\\assets\n"
     ]
    },
    {
     "name": "stderr",
     "output_type": "stream",
     "text": [
      "INFO:tensorflow:Assets written to: models\\experiment-1-1\\assets\n"
     ]
    },
    {
     "name": "stdout",
     "output_type": "stream",
     "text": [
      "610/610 [==============================] - 4s 6ms/step - loss: 0.0165 - accuracy: 0.9997 - val_loss: 0.0115 - val_accuracy: 1.0000\n",
      "Epoch 5/15\n",
      "606/610 [============================>.] - ETA: 0s - loss: 0.0073 - accuracy: 0.9999"
     ]
    },
    {
     "name": "stderr",
     "output_type": "stream",
     "text": [
      "WARNING:absl:Found untraced functions such as _jit_compiled_convolution_op while saving (showing 1 of 1). These functions will not be directly callable after loading.\n"
     ]
    },
    {
     "name": "stdout",
     "output_type": "stream",
     "text": [
      "INFO:tensorflow:Assets written to: models\\experiment-1-1\\assets\n"
     ]
    },
    {
     "name": "stderr",
     "output_type": "stream",
     "text": [
      "INFO:tensorflow:Assets written to: models\\experiment-1-1\\assets\n"
     ]
    },
    {
     "name": "stdout",
     "output_type": "stream",
     "text": [
      "610/610 [==============================] - 4s 6ms/step - loss: 0.0073 - accuracy: 0.9999 - val_loss: 0.0049 - val_accuracy: 1.0000\n",
      "Epoch 6/15\n",
      "609/610 [============================>.] - ETA: 0s - loss: 0.0066 - accuracy: 0.9993"
     ]
    },
    {
     "name": "stderr",
     "output_type": "stream",
     "text": [
      "WARNING:absl:Found untraced functions such as _jit_compiled_convolution_op while saving (showing 1 of 1). These functions will not be directly callable after loading.\n"
     ]
    },
    {
     "name": "stdout",
     "output_type": "stream",
     "text": [
      "INFO:tensorflow:Assets written to: models\\experiment-1-1\\assets\n"
     ]
    },
    {
     "name": "stderr",
     "output_type": "stream",
     "text": [
      "INFO:tensorflow:Assets written to: models\\experiment-1-1\\assets\n"
     ]
    },
    {
     "name": "stdout",
     "output_type": "stream",
     "text": [
      "610/610 [==============================] - 4s 6ms/step - loss: 0.0066 - accuracy: 0.9993 - val_loss: 0.0044 - val_accuracy: 1.0000\n",
      "Epoch 7/15\n",
      "610/610 [==============================] - ETA: 0s - loss: 0.0022 - accuracy: 1.0000"
     ]
    },
    {
     "name": "stderr",
     "output_type": "stream",
     "text": [
      "WARNING:absl:Found untraced functions such as _jit_compiled_convolution_op while saving (showing 1 of 1). These functions will not be directly callable after loading.\n"
     ]
    },
    {
     "name": "stdout",
     "output_type": "stream",
     "text": [
      "INFO:tensorflow:Assets written to: models\\experiment-1-1\\assets\n"
     ]
    },
    {
     "name": "stderr",
     "output_type": "stream",
     "text": [
      "INFO:tensorflow:Assets written to: models\\experiment-1-1\\assets\n"
     ]
    },
    {
     "name": "stdout",
     "output_type": "stream",
     "text": [
      "610/610 [==============================] - 4s 7ms/step - loss: 0.0022 - accuracy: 1.0000 - val_loss: 0.0017 - val_accuracy: 1.0000\n",
      "Epoch 8/15\n",
      "610/610 [==============================] - ETA: 0s - loss: 0.0013 - accuracy: 1.0000"
     ]
    },
    {
     "name": "stderr",
     "output_type": "stream",
     "text": [
      "WARNING:absl:Found untraced functions such as _jit_compiled_convolution_op while saving (showing 1 of 1). These functions will not be directly callable after loading.\n"
     ]
    },
    {
     "name": "stdout",
     "output_type": "stream",
     "text": [
      "INFO:tensorflow:Assets written to: models\\experiment-1-1\\assets\n"
     ]
    },
    {
     "name": "stderr",
     "output_type": "stream",
     "text": [
      "INFO:tensorflow:Assets written to: models\\experiment-1-1\\assets\n"
     ]
    },
    {
     "name": "stdout",
     "output_type": "stream",
     "text": [
      "610/610 [==============================] - 5s 8ms/step - loss: 0.0013 - accuracy: 1.0000 - val_loss: 0.0012 - val_accuracy: 1.0000\n",
      "Epoch 9/15\n",
      "609/610 [============================>.] - ETA: 0s - loss: 8.6837e-04 - accuracy: 1.0000"
     ]
    },
    {
     "name": "stderr",
     "output_type": "stream",
     "text": [
      "WARNING:absl:Found untraced functions such as _jit_compiled_convolution_op while saving (showing 1 of 1). These functions will not be directly callable after loading.\n"
     ]
    },
    {
     "name": "stdout",
     "output_type": "stream",
     "text": [
      "INFO:tensorflow:Assets written to: models\\experiment-1-1\\assets\n"
     ]
    },
    {
     "name": "stderr",
     "output_type": "stream",
     "text": [
      "INFO:tensorflow:Assets written to: models\\experiment-1-1\\assets\n"
     ]
    },
    {
     "name": "stdout",
     "output_type": "stream",
     "text": [
      "610/610 [==============================] - 4s 7ms/step - loss: 8.6799e-04 - accuracy: 1.0000 - val_loss: 7.7809e-04 - val_accuracy: 1.0000\n",
      "Epoch 10/15\n",
      "605/610 [============================>.] - ETA: 0s - loss: 5.8230e-04 - accuracy: 1.0000"
     ]
    },
    {
     "name": "stderr",
     "output_type": "stream",
     "text": [
      "WARNING:absl:Found untraced functions such as _jit_compiled_convolution_op while saving (showing 1 of 1). These functions will not be directly callable after loading.\n"
     ]
    },
    {
     "name": "stdout",
     "output_type": "stream",
     "text": [
      "INFO:tensorflow:Assets written to: models\\experiment-1-1\\assets\n"
     ]
    },
    {
     "name": "stderr",
     "output_type": "stream",
     "text": [
      "INFO:tensorflow:Assets written to: models\\experiment-1-1\\assets\n"
     ]
    },
    {
     "name": "stdout",
     "output_type": "stream",
     "text": [
      "610/610 [==============================] - 5s 9ms/step - loss: 5.8304e-04 - accuracy: 1.0000 - val_loss: 5.4940e-04 - val_accuracy: 1.0000\n",
      "Epoch 11/15\n",
      "610/610 [==============================] - 4s 6ms/step - loss: 0.0314 - accuracy: 0.9908 - val_loss: 0.0015 - val_accuracy: 1.0000\n",
      "Epoch 12/15\n",
      "610/610 [==============================] - 4s 6ms/step - loss: 8.4445e-04 - accuracy: 1.0000 - val_loss: 6.3095e-04 - val_accuracy: 1.0000\n",
      "Epoch 13/15\n",
      "608/610 [============================>.] - ETA: 0s - loss: 4.8544e-04 - accuracy: 1.0000"
     ]
    },
    {
     "name": "stderr",
     "output_type": "stream",
     "text": [
      "WARNING:absl:Found untraced functions such as _jit_compiled_convolution_op while saving (showing 1 of 1). These functions will not be directly callable after loading.\n"
     ]
    },
    {
     "name": "stdout",
     "output_type": "stream",
     "text": [
      "INFO:tensorflow:Assets written to: models\\experiment-1-1\\assets\n"
     ]
    },
    {
     "name": "stderr",
     "output_type": "stream",
     "text": [
      "INFO:tensorflow:Assets written to: models\\experiment-1-1\\assets\n"
     ]
    },
    {
     "name": "stdout",
     "output_type": "stream",
     "text": [
      "610/610 [==============================] - 4s 6ms/step - loss: 4.8522e-04 - accuracy: 1.0000 - val_loss: 4.7309e-04 - val_accuracy: 1.0000\n",
      "Epoch 14/15\n",
      "607/610 [============================>.] - ETA: 0s - loss: 3.5215e-04 - accuracy: 1.0000"
     ]
    },
    {
     "name": "stderr",
     "output_type": "stream",
     "text": [
      "WARNING:absl:Found untraced functions such as _jit_compiled_convolution_op while saving (showing 1 of 1). These functions will not be directly callable after loading.\n"
     ]
    },
    {
     "name": "stdout",
     "output_type": "stream",
     "text": [
      "INFO:tensorflow:Assets written to: models\\experiment-1-1\\assets\n"
     ]
    },
    {
     "name": "stderr",
     "output_type": "stream",
     "text": [
      "INFO:tensorflow:Assets written to: models\\experiment-1-1\\assets\n"
     ]
    },
    {
     "name": "stdout",
     "output_type": "stream",
     "text": [
      "610/610 [==============================] - 4s 7ms/step - loss: 3.5329e-04 - accuracy: 1.0000 - val_loss: 3.3240e-04 - val_accuracy: 1.0000\n",
      "Epoch 15/15\n",
      "605/610 [============================>.] - ETA: 0s - loss: 2.7148e-04 - accuracy: 1.0000"
     ]
    },
    {
     "name": "stderr",
     "output_type": "stream",
     "text": [
      "WARNING:absl:Found untraced functions such as _jit_compiled_convolution_op while saving (showing 1 of 1). These functions will not be directly callable after loading.\n"
     ]
    },
    {
     "name": "stdout",
     "output_type": "stream",
     "text": [
      "INFO:tensorflow:Assets written to: models\\experiment-1-1\\assets\n"
     ]
    },
    {
     "name": "stderr",
     "output_type": "stream",
     "text": [
      "INFO:tensorflow:Assets written to: models\\experiment-1-1\\assets\n"
     ]
    },
    {
     "name": "stdout",
     "output_type": "stream",
     "text": [
      "610/610 [==============================] - 4s 7ms/step - loss: 2.7154e-04 - accuracy: 1.0000 - val_loss: 2.5948e-04 - val_accuracy: 1.0000\n",
      "Epoch 1/15\n",
      "608/610 [============================>.] - ETA: 0s - loss: 0.9688 - accuracy: 0.7083"
     ]
    },
    {
     "name": "stderr",
     "output_type": "stream",
     "text": [
      "WARNING:absl:Found untraced functions such as _jit_compiled_convolution_op, _jit_compiled_convolution_op while saving (showing 2 of 2). These functions will not be directly callable after loading.\n"
     ]
    },
    {
     "name": "stdout",
     "output_type": "stream",
     "text": [
      "INFO:tensorflow:Assets written to: models\\experiment-1-2\\assets\n"
     ]
    },
    {
     "name": "stderr",
     "output_type": "stream",
     "text": [
      "INFO:tensorflow:Assets written to: models\\experiment-1-2\\assets\n"
     ]
    },
    {
     "name": "stdout",
     "output_type": "stream",
     "text": [
      "610/610 [==============================] - 7s 10ms/step - loss: 0.9668 - accuracy: 0.7090 - val_loss: 0.1467 - val_accuracy: 0.9531\n",
      "Epoch 2/15\n",
      "606/610 [============================>.] - ETA: 0s - loss: 0.0457 - accuracy: 0.9910"
     ]
    },
    {
     "name": "stderr",
     "output_type": "stream",
     "text": [
      "WARNING:absl:Found untraced functions such as _jit_compiled_convolution_op, _jit_compiled_convolution_op while saving (showing 2 of 2). These functions will not be directly callable after loading.\n"
     ]
    },
    {
     "name": "stdout",
     "output_type": "stream",
     "text": [
      "INFO:tensorflow:Assets written to: models\\experiment-1-2\\assets\n"
     ]
    },
    {
     "name": "stderr",
     "output_type": "stream",
     "text": [
      "INFO:tensorflow:Assets written to: models\\experiment-1-2\\assets\n"
     ]
    },
    {
     "name": "stdout",
     "output_type": "stream",
     "text": [
      "610/610 [==============================] - 7s 11ms/step - loss: 0.0455 - accuracy: 0.9910 - val_loss: 0.0085 - val_accuracy: 0.9997\n",
      "Epoch 3/15\n",
      "605/610 [============================>.] - ETA: 0s - loss: 0.0043 - accuracy: 0.9999"
     ]
    },
    {
     "name": "stderr",
     "output_type": "stream",
     "text": [
      "WARNING:absl:Found untraced functions such as _jit_compiled_convolution_op, _jit_compiled_convolution_op while saving (showing 2 of 2). These functions will not be directly callable after loading.\n"
     ]
    },
    {
     "name": "stdout",
     "output_type": "stream",
     "text": [
      "INFO:tensorflow:Assets written to: models\\experiment-1-2\\assets\n"
     ]
    },
    {
     "name": "stderr",
     "output_type": "stream",
     "text": [
      "INFO:tensorflow:Assets written to: models\\experiment-1-2\\assets\n"
     ]
    },
    {
     "name": "stdout",
     "output_type": "stream",
     "text": [
      "610/610 [==============================] - 6s 9ms/step - loss: 0.0043 - accuracy: 0.9999 - val_loss: 0.0021 - val_accuracy: 1.0000\n",
      "Epoch 4/15\n",
      "610/610 [==============================] - 6s 9ms/step - loss: 0.0376 - accuracy: 0.9897 - val_loss: 0.0031 - val_accuracy: 1.0000\n",
      "Epoch 5/15\n",
      "605/610 [============================>.] - ETA: 0s - loss: 9.2055e-04 - accuracy: 1.0000"
     ]
    },
    {
     "name": "stderr",
     "output_type": "stream",
     "text": [
      "WARNING:absl:Found untraced functions such as _jit_compiled_convolution_op, _jit_compiled_convolution_op while saving (showing 2 of 2). These functions will not be directly callable after loading.\n"
     ]
    },
    {
     "name": "stdout",
     "output_type": "stream",
     "text": [
      "INFO:tensorflow:Assets written to: models\\experiment-1-2\\assets\n"
     ]
    },
    {
     "name": "stderr",
     "output_type": "stream",
     "text": [
      "INFO:tensorflow:Assets written to: models\\experiment-1-2\\assets\n"
     ]
    },
    {
     "name": "stdout",
     "output_type": "stream",
     "text": [
      "610/610 [==============================] - 6s 10ms/step - loss: 9.1743e-04 - accuracy: 1.0000 - val_loss: 4.9071e-04 - val_accuracy: 1.0000\n",
      "Epoch 6/15\n",
      "603/610 [============================>.] - ETA: 0s - loss: 3.3840e-04 - accuracy: 1.0000"
     ]
    },
    {
     "name": "stderr",
     "output_type": "stream",
     "text": [
      "WARNING:absl:Found untraced functions such as _jit_compiled_convolution_op, _jit_compiled_convolution_op while saving (showing 2 of 2). These functions will not be directly callable after loading.\n"
     ]
    },
    {
     "name": "stdout",
     "output_type": "stream",
     "text": [
      "INFO:tensorflow:Assets written to: models\\experiment-1-2\\assets\n"
     ]
    },
    {
     "name": "stderr",
     "output_type": "stream",
     "text": [
      "INFO:tensorflow:Assets written to: models\\experiment-1-2\\assets\n"
     ]
    },
    {
     "name": "stdout",
     "output_type": "stream",
     "text": [
      "610/610 [==============================] - 5s 9ms/step - loss: 3.3749e-04 - accuracy: 1.0000 - val_loss: 2.7421e-04 - val_accuracy: 1.0000\n",
      "Epoch 7/15\n",
      "600/610 [============================>.] - ETA: 0s - loss: 1.9964e-04 - accuracy: 1.0000"
     ]
    },
    {
     "name": "stderr",
     "output_type": "stream",
     "text": [
      "WARNING:absl:Found untraced functions such as _jit_compiled_convolution_op, _jit_compiled_convolution_op while saving (showing 2 of 2). These functions will not be directly callable after loading.\n"
     ]
    },
    {
     "name": "stdout",
     "output_type": "stream",
     "text": [
      "INFO:tensorflow:Assets written to: models\\experiment-1-2\\assets\n"
     ]
    },
    {
     "name": "stderr",
     "output_type": "stream",
     "text": [
      "INFO:tensorflow:Assets written to: models\\experiment-1-2\\assets\n"
     ]
    },
    {
     "name": "stdout",
     "output_type": "stream",
     "text": [
      "610/610 [==============================] - 6s 10ms/step - loss: 1.9890e-04 - accuracy: 1.0000 - val_loss: 1.8108e-04 - val_accuracy: 1.0000\n",
      "Epoch 8/15\n",
      "605/610 [============================>.] - ETA: 0s - loss: 1.3324e-04 - accuracy: 1.0000"
     ]
    },
    {
     "name": "stderr",
     "output_type": "stream",
     "text": [
      "WARNING:absl:Found untraced functions such as _jit_compiled_convolution_op, _jit_compiled_convolution_op while saving (showing 2 of 2). These functions will not be directly callable after loading.\n"
     ]
    },
    {
     "name": "stdout",
     "output_type": "stream",
     "text": [
      "INFO:tensorflow:Assets written to: models\\experiment-1-2\\assets\n"
     ]
    },
    {
     "name": "stderr",
     "output_type": "stream",
     "text": [
      "INFO:tensorflow:Assets written to: models\\experiment-1-2\\assets\n"
     ]
    },
    {
     "name": "stdout",
     "output_type": "stream",
     "text": [
      "610/610 [==============================] - 6s 9ms/step - loss: 1.3388e-04 - accuracy: 1.0000 - val_loss: 1.2290e-04 - val_accuracy: 1.0000\n",
      "Epoch 9/15\n",
      "609/610 [============================>.] - ETA: 0s - loss: 9.4069e-05 - accuracy: 1.0000"
     ]
    },
    {
     "name": "stderr",
     "output_type": "stream",
     "text": [
      "WARNING:absl:Found untraced functions such as _jit_compiled_convolution_op, _jit_compiled_convolution_op while saving (showing 2 of 2). These functions will not be directly callable after loading.\n"
     ]
    },
    {
     "name": "stdout",
     "output_type": "stream",
     "text": [
      "INFO:tensorflow:Assets written to: models\\experiment-1-2\\assets\n"
     ]
    },
    {
     "name": "stderr",
     "output_type": "stream",
     "text": [
      "INFO:tensorflow:Assets written to: models\\experiment-1-2\\assets\n"
     ]
    },
    {
     "name": "stdout",
     "output_type": "stream",
     "text": [
      "610/610 [==============================] - 6s 10ms/step - loss: 9.4024e-05 - accuracy: 1.0000 - val_loss: 8.7907e-05 - val_accuracy: 1.0000\n",
      "Epoch 10/15\n",
      "599/610 [============================>.] - ETA: 0s - loss: 6.4930e-05 - accuracy: 1.0000"
     ]
    },
    {
     "name": "stderr",
     "output_type": "stream",
     "text": [
      "WARNING:absl:Found untraced functions such as _jit_compiled_convolution_op, _jit_compiled_convolution_op while saving (showing 2 of 2). These functions will not be directly callable after loading.\n"
     ]
    },
    {
     "name": "stdout",
     "output_type": "stream",
     "text": [
      "INFO:tensorflow:Assets written to: models\\experiment-1-2\\assets\n"
     ]
    },
    {
     "name": "stderr",
     "output_type": "stream",
     "text": [
      "INFO:tensorflow:Assets written to: models\\experiment-1-2\\assets\n"
     ]
    },
    {
     "name": "stdout",
     "output_type": "stream",
     "text": [
      "610/610 [==============================] - 5s 8ms/step - loss: 6.5206e-05 - accuracy: 1.0000 - val_loss: 6.4753e-05 - val_accuracy: 1.0000\n",
      "Epoch 11/15\n",
      "604/610 [============================>.] - ETA: 0s - loss: 4.5556e-05 - accuracy: 1.0000"
     ]
    },
    {
     "name": "stderr",
     "output_type": "stream",
     "text": [
      "WARNING:absl:Found untraced functions such as _jit_compiled_convolution_op, _jit_compiled_convolution_op while saving (showing 2 of 2). These functions will not be directly callable after loading.\n"
     ]
    },
    {
     "name": "stdout",
     "output_type": "stream",
     "text": [
      "INFO:tensorflow:Assets written to: models\\experiment-1-2\\assets\n"
     ]
    },
    {
     "name": "stderr",
     "output_type": "stream",
     "text": [
      "INFO:tensorflow:Assets written to: models\\experiment-1-2\\assets\n"
     ]
    },
    {
     "name": "stdout",
     "output_type": "stream",
     "text": [
      "610/610 [==============================] - 6s 10ms/step - loss: 4.5509e-05 - accuracy: 1.0000 - val_loss: 3.9519e-05 - val_accuracy: 1.0000\n",
      "Epoch 12/15\n",
      "608/610 [============================>.] - ETA: 0s - loss: 3.0262e-05 - accuracy: 1.0000"
     ]
    },
    {
     "name": "stderr",
     "output_type": "stream",
     "text": [
      "WARNING:absl:Found untraced functions such as _jit_compiled_convolution_op, _jit_compiled_convolution_op while saving (showing 2 of 2). These functions will not be directly callable after loading.\n"
     ]
    },
    {
     "name": "stdout",
     "output_type": "stream",
     "text": [
      "INFO:tensorflow:Assets written to: models\\experiment-1-2\\assets\n"
     ]
    },
    {
     "name": "stderr",
     "output_type": "stream",
     "text": [
      "INFO:tensorflow:Assets written to: models\\experiment-1-2\\assets\n"
     ]
    },
    {
     "name": "stdout",
     "output_type": "stream",
     "text": [
      "610/610 [==============================] - 6s 10ms/step - loss: 3.0241e-05 - accuracy: 1.0000 - val_loss: 2.7037e-05 - val_accuracy: 1.0000\n",
      "Epoch 13/15\n",
      "608/610 [============================>.] - ETA: 0s - loss: 2.0512e-05 - accuracy: 1.0000"
     ]
    },
    {
     "name": "stderr",
     "output_type": "stream",
     "text": [
      "WARNING:absl:Found untraced functions such as _jit_compiled_convolution_op, _jit_compiled_convolution_op while saving (showing 2 of 2). These functions will not be directly callable after loading.\n"
     ]
    },
    {
     "name": "stdout",
     "output_type": "stream",
     "text": [
      "INFO:tensorflow:Assets written to: models\\experiment-1-2\\assets\n"
     ]
    },
    {
     "name": "stderr",
     "output_type": "stream",
     "text": [
      "INFO:tensorflow:Assets written to: models\\experiment-1-2\\assets\n"
     ]
    },
    {
     "name": "stdout",
     "output_type": "stream",
     "text": [
      "610/610 [==============================] - 7s 12ms/step - loss: 2.0501e-05 - accuracy: 1.0000 - val_loss: 1.9547e-05 - val_accuracy: 1.0000\n",
      "Epoch 14/15\n",
      "610/610 [==============================] - ETA: 0s - loss: 1.4227e-05 - accuracy: 1.0000"
     ]
    },
    {
     "name": "stderr",
     "output_type": "stream",
     "text": [
      "WARNING:absl:Found untraced functions such as _jit_compiled_convolution_op, _jit_compiled_convolution_op while saving (showing 2 of 2). These functions will not be directly callable after loading.\n"
     ]
    },
    {
     "name": "stdout",
     "output_type": "stream",
     "text": [
      "INFO:tensorflow:Assets written to: models\\experiment-1-2\\assets\n"
     ]
    },
    {
     "name": "stderr",
     "output_type": "stream",
     "text": [
      "INFO:tensorflow:Assets written to: models\\experiment-1-2\\assets\n"
     ]
    },
    {
     "name": "stdout",
     "output_type": "stream",
     "text": [
      "610/610 [==============================] - 5s 9ms/step - loss: 1.4227e-05 - accuracy: 1.0000 - val_loss: 1.3458e-05 - val_accuracy: 1.0000\n",
      "Epoch 15/15\n",
      "610/610 [==============================] - ETA: 0s - loss: 9.9346e-06 - accuracy: 1.0000"
     ]
    },
    {
     "name": "stderr",
     "output_type": "stream",
     "text": [
      "WARNING:absl:Found untraced functions such as _jit_compiled_convolution_op, _jit_compiled_convolution_op while saving (showing 2 of 2). These functions will not be directly callable after loading.\n"
     ]
    },
    {
     "name": "stdout",
     "output_type": "stream",
     "text": [
      "INFO:tensorflow:Assets written to: models\\experiment-1-2\\assets\n"
     ]
    },
    {
     "name": "stderr",
     "output_type": "stream",
     "text": [
      "INFO:tensorflow:Assets written to: models\\experiment-1-2\\assets\n"
     ]
    },
    {
     "name": "stdout",
     "output_type": "stream",
     "text": [
      "610/610 [==============================] - 6s 10ms/step - loss: 9.9346e-06 - accuracy: 1.0000 - val_loss: 9.3704e-06 - val_accuracy: 1.0000\n",
      "Epoch 1/15\n",
      "610/610 [==============================] - ETA: 0s - loss: 0.8947 - accuracy: 0.7210"
     ]
    },
    {
     "name": "stderr",
     "output_type": "stream",
     "text": [
      "WARNING:absl:Found untraced functions such as _jit_compiled_convolution_op, _jit_compiled_convolution_op, _jit_compiled_convolution_op while saving (showing 3 of 3). These functions will not be directly callable after loading.\n"
     ]
    },
    {
     "name": "stdout",
     "output_type": "stream",
     "text": [
      "INFO:tensorflow:Assets written to: models\\experiment-1-3\\assets\n"
     ]
    },
    {
     "name": "stderr",
     "output_type": "stream",
     "text": [
      "INFO:tensorflow:Assets written to: models\\experiment-1-3\\assets\n"
     ]
    },
    {
     "name": "stdout",
     "output_type": "stream",
     "text": [
      "610/610 [==============================] - 9s 13ms/step - loss: 0.8947 - accuracy: 0.7210 - val_loss: 0.0764 - val_accuracy: 0.9777\n",
      "Epoch 2/15\n",
      "605/610 [============================>.] - ETA: 0s - loss: 0.0376 - accuracy: 0.9903"
     ]
    },
    {
     "name": "stderr",
     "output_type": "stream",
     "text": [
      "WARNING:absl:Found untraced functions such as _jit_compiled_convolution_op, _jit_compiled_convolution_op, _jit_compiled_convolution_op while saving (showing 3 of 3). These functions will not be directly callable after loading.\n"
     ]
    },
    {
     "name": "stdout",
     "output_type": "stream",
     "text": [
      "INFO:tensorflow:Assets written to: models\\experiment-1-3\\assets\n"
     ]
    },
    {
     "name": "stderr",
     "output_type": "stream",
     "text": [
      "INFO:tensorflow:Assets written to: models\\experiment-1-3\\assets\n"
     ]
    },
    {
     "name": "stdout",
     "output_type": "stream",
     "text": [
      "610/610 [==============================] - 8s 13ms/step - loss: 0.0374 - accuracy: 0.9904 - val_loss: 0.0031 - val_accuracy: 1.0000\n",
      "Epoch 3/15\n",
      "610/610 [==============================] - 6s 10ms/step - loss: 0.0161 - accuracy: 0.9950 - val_loss: 0.1017 - val_accuracy: 0.9635\n",
      "Epoch 4/15\n",
      "610/610 [==============================] - 7s 11ms/step - loss: 0.0285 - accuracy: 0.9910 - val_loss: 0.0222 - val_accuracy: 0.9937\n",
      "Epoch 5/15\n",
      "606/610 [============================>.] - ETA: 0s - loss: 0.0072 - accuracy: 0.9979"
     ]
    },
    {
     "name": "stderr",
     "output_type": "stream",
     "text": [
      "WARNING:absl:Found untraced functions such as _jit_compiled_convolution_op, _jit_compiled_convolution_op, _jit_compiled_convolution_op while saving (showing 3 of 3). These functions will not be directly callable after loading.\n"
     ]
    },
    {
     "name": "stdout",
     "output_type": "stream",
     "text": [
      "INFO:tensorflow:Assets written to: models\\experiment-1-3\\assets\n"
     ]
    },
    {
     "name": "stderr",
     "output_type": "stream",
     "text": [
      "INFO:tensorflow:Assets written to: models\\experiment-1-3\\assets\n"
     ]
    },
    {
     "name": "stdout",
     "output_type": "stream",
     "text": [
      "610/610 [==============================] - 8s 13ms/step - loss: 0.0072 - accuracy: 0.9979 - val_loss: 1.4488e-04 - val_accuracy: 1.0000\n",
      "Epoch 6/15\n",
      "610/610 [==============================] - ETA: 0s - loss: 7.7258e-05 - accuracy: 1.0000"
     ]
    },
    {
     "name": "stderr",
     "output_type": "stream",
     "text": [
      "WARNING:absl:Found untraced functions such as _jit_compiled_convolution_op, _jit_compiled_convolution_op, _jit_compiled_convolution_op while saving (showing 3 of 3). These functions will not be directly callable after loading.\n"
     ]
    },
    {
     "name": "stdout",
     "output_type": "stream",
     "text": [
      "INFO:tensorflow:Assets written to: models\\experiment-1-3\\assets\n"
     ]
    },
    {
     "name": "stderr",
     "output_type": "stream",
     "text": [
      "INFO:tensorflow:Assets written to: models\\experiment-1-3\\assets\n"
     ]
    },
    {
     "name": "stdout",
     "output_type": "stream",
     "text": [
      "610/610 [==============================] - 7s 12ms/step - loss: 7.7258e-05 - accuracy: 1.0000 - val_loss: 5.4070e-05 - val_accuracy: 1.0000\n",
      "Epoch 7/15\n",
      "606/610 [============================>.] - ETA: 0s - loss: 3.4622e-05 - accuracy: 1.0000"
     ]
    },
    {
     "name": "stderr",
     "output_type": "stream",
     "text": [
      "WARNING:absl:Found untraced functions such as _jit_compiled_convolution_op, _jit_compiled_convolution_op, _jit_compiled_convolution_op while saving (showing 3 of 3). These functions will not be directly callable after loading.\n"
     ]
    },
    {
     "name": "stdout",
     "output_type": "stream",
     "text": [
      "INFO:tensorflow:Assets written to: models\\experiment-1-3\\assets\n"
     ]
    },
    {
     "name": "stderr",
     "output_type": "stream",
     "text": [
      "INFO:tensorflow:Assets written to: models\\experiment-1-3\\assets\n"
     ]
    },
    {
     "name": "stdout",
     "output_type": "stream",
     "text": [
      "610/610 [==============================] - 8s 12ms/step - loss: 3.4583e-05 - accuracy: 1.0000 - val_loss: 3.0925e-05 - val_accuracy: 1.0000\n",
      "Epoch 8/15\n",
      "608/610 [============================>.] - ETA: 0s - loss: 2.0418e-05 - accuracy: 1.0000"
     ]
    },
    {
     "name": "stderr",
     "output_type": "stream",
     "text": [
      "WARNING:absl:Found untraced functions such as _jit_compiled_convolution_op, _jit_compiled_convolution_op, _jit_compiled_convolution_op while saving (showing 3 of 3). These functions will not be directly callable after loading.\n"
     ]
    },
    {
     "name": "stdout",
     "output_type": "stream",
     "text": [
      "INFO:tensorflow:Assets written to: models\\experiment-1-3\\assets\n"
     ]
    },
    {
     "name": "stderr",
     "output_type": "stream",
     "text": [
      "INFO:tensorflow:Assets written to: models\\experiment-1-3\\assets\n"
     ]
    },
    {
     "name": "stdout",
     "output_type": "stream",
     "text": [
      "610/610 [==============================] - 6s 10ms/step - loss: 2.0388e-05 - accuracy: 1.0000 - val_loss: 1.9665e-05 - val_accuracy: 1.0000\n",
      "Epoch 9/15\n",
      "606/610 [============================>.] - ETA: 0s - loss: 1.3087e-05 - accuracy: 1.0000"
     ]
    },
    {
     "name": "stderr",
     "output_type": "stream",
     "text": [
      "WARNING:absl:Found untraced functions such as _jit_compiled_convolution_op, _jit_compiled_convolution_op, _jit_compiled_convolution_op while saving (showing 3 of 3). These functions will not be directly callable after loading.\n"
     ]
    },
    {
     "name": "stdout",
     "output_type": "stream",
     "text": [
      "INFO:tensorflow:Assets written to: models\\experiment-1-3\\assets\n"
     ]
    },
    {
     "name": "stderr",
     "output_type": "stream",
     "text": [
      "INFO:tensorflow:Assets written to: models\\experiment-1-3\\assets\n"
     ]
    },
    {
     "name": "stdout",
     "output_type": "stream",
     "text": [
      "610/610 [==============================] - 7s 12ms/step - loss: 1.3067e-05 - accuracy: 1.0000 - val_loss: 1.3650e-05 - val_accuracy: 1.0000\n",
      "Epoch 10/15\n",
      "605/610 [============================>.] - ETA: 0s - loss: 8.9536e-06 - accuracy: 1.0000"
     ]
    },
    {
     "name": "stderr",
     "output_type": "stream",
     "text": [
      "WARNING:absl:Found untraced functions such as _jit_compiled_convolution_op, _jit_compiled_convolution_op, _jit_compiled_convolution_op while saving (showing 3 of 3). These functions will not be directly callable after loading.\n"
     ]
    },
    {
     "name": "stdout",
     "output_type": "stream",
     "text": [
      "INFO:tensorflow:Assets written to: models\\experiment-1-3\\assets\n"
     ]
    },
    {
     "name": "stderr",
     "output_type": "stream",
     "text": [
      "INFO:tensorflow:Assets written to: models\\experiment-1-3\\assets\n"
     ]
    },
    {
     "name": "stdout",
     "output_type": "stream",
     "text": [
      "610/610 [==============================] - 7s 12ms/step - loss: 8.9197e-06 - accuracy: 1.0000 - val_loss: 1.0479e-05 - val_accuracy: 1.0000\n",
      "Epoch 11/15\n",
      "604/610 [============================>.] - ETA: 0s - loss: 6.4773e-06 - accuracy: 1.0000"
     ]
    },
    {
     "name": "stderr",
     "output_type": "stream",
     "text": [
      "WARNING:absl:Found untraced functions such as _jit_compiled_convolution_op, _jit_compiled_convolution_op, _jit_compiled_convolution_op while saving (showing 3 of 3). These functions will not be directly callable after loading.\n"
     ]
    },
    {
     "name": "stdout",
     "output_type": "stream",
     "text": [
      "INFO:tensorflow:Assets written to: models\\experiment-1-3\\assets\n"
     ]
    },
    {
     "name": "stderr",
     "output_type": "stream",
     "text": [
      "INFO:tensorflow:Assets written to: models\\experiment-1-3\\assets\n"
     ]
    },
    {
     "name": "stdout",
     "output_type": "stream",
     "text": [
      "610/610 [==============================] - 7s 12ms/step - loss: 6.4600e-06 - accuracy: 1.0000 - val_loss: 7.0963e-06 - val_accuracy: 1.0000\n",
      "Epoch 12/15\n",
      "605/610 [============================>.] - ETA: 0s - loss: 4.6440e-06 - accuracy: 1.0000"
     ]
    },
    {
     "name": "stderr",
     "output_type": "stream",
     "text": [
      "WARNING:absl:Found untraced functions such as _jit_compiled_convolution_op, _jit_compiled_convolution_op, _jit_compiled_convolution_op while saving (showing 3 of 3). These functions will not be directly callable after loading.\n"
     ]
    },
    {
     "name": "stdout",
     "output_type": "stream",
     "text": [
      "INFO:tensorflow:Assets written to: models\\experiment-1-3\\assets\n"
     ]
    },
    {
     "name": "stderr",
     "output_type": "stream",
     "text": [
      "INFO:tensorflow:Assets written to: models\\experiment-1-3\\assets\n"
     ]
    },
    {
     "name": "stdout",
     "output_type": "stream",
     "text": [
      "610/610 [==============================] - 7s 12ms/step - loss: 4.6478e-06 - accuracy: 1.0000 - val_loss: 5.8179e-06 - val_accuracy: 1.0000\n",
      "Epoch 13/15\n",
      "610/610 [==============================] - ETA: 0s - loss: 3.4811e-06 - accuracy: 1.0000"
     ]
    },
    {
     "name": "stderr",
     "output_type": "stream",
     "text": [
      "WARNING:absl:Found untraced functions such as _jit_compiled_convolution_op, _jit_compiled_convolution_op, _jit_compiled_convolution_op while saving (showing 3 of 3). These functions will not be directly callable after loading.\n"
     ]
    },
    {
     "name": "stdout",
     "output_type": "stream",
     "text": [
      "INFO:tensorflow:Assets written to: models\\experiment-1-3\\assets\n"
     ]
    },
    {
     "name": "stderr",
     "output_type": "stream",
     "text": [
      "INFO:tensorflow:Assets written to: models\\experiment-1-3\\assets\n"
     ]
    },
    {
     "name": "stdout",
     "output_type": "stream",
     "text": [
      "610/610 [==============================] - 7s 12ms/step - loss: 3.4811e-06 - accuracy: 1.0000 - val_loss: 4.2011e-06 - val_accuracy: 1.0000\n",
      "Epoch 14/15\n",
      "603/610 [============================>.] - ETA: 0s - loss: 2.4777e-06 - accuracy: 1.0000"
     ]
    },
    {
     "name": "stderr",
     "output_type": "stream",
     "text": [
      "WARNING:absl:Found untraced functions such as _jit_compiled_convolution_op, _jit_compiled_convolution_op, _jit_compiled_convolution_op while saving (showing 3 of 3). These functions will not be directly callable after loading.\n"
     ]
    },
    {
     "name": "stdout",
     "output_type": "stream",
     "text": [
      "INFO:tensorflow:Assets written to: models\\experiment-1-3\\assets\n"
     ]
    },
    {
     "name": "stderr",
     "output_type": "stream",
     "text": [
      "INFO:tensorflow:Assets written to: models\\experiment-1-3\\assets\n"
     ]
    },
    {
     "name": "stdout",
     "output_type": "stream",
     "text": [
      "610/610 [==============================] - 7s 12ms/step - loss: 2.4738e-06 - accuracy: 1.0000 - val_loss: 2.9150e-06 - val_accuracy: 1.0000\n",
      "Epoch 15/15\n",
      "604/610 [============================>.] - ETA: 0s - loss: 1.8221e-06 - accuracy: 1.0000"
     ]
    },
    {
     "name": "stderr",
     "output_type": "stream",
     "text": [
      "WARNING:absl:Found untraced functions such as _jit_compiled_convolution_op, _jit_compiled_convolution_op, _jit_compiled_convolution_op while saving (showing 3 of 3). These functions will not be directly callable after loading.\n"
     ]
    },
    {
     "name": "stdout",
     "output_type": "stream",
     "text": [
      "INFO:tensorflow:Assets written to: models\\experiment-1-3\\assets\n"
     ]
    },
    {
     "name": "stderr",
     "output_type": "stream",
     "text": [
      "INFO:tensorflow:Assets written to: models\\experiment-1-3\\assets\n"
     ]
    },
    {
     "name": "stdout",
     "output_type": "stream",
     "text": [
      "\b\b\b\b\b\b\b\b\b\b\b\b\b\b\b\b\b\b\b\b\b\b\b\b\b\b\b\b\b\b\b\b\b\b\b\b\b\b\b\b\b\b\b\b\b\b\b\b\b\b\b\b\b\b\b\b\b\b\b\b\b\b\b\b\b\b\b\b\b\b\b\b\b\b\b\b\b\b\b\b\b\b\b\b\b\b\b\b\r",
      "610/610 [==============================] - 8s 12ms/step - loss: 1.8241e-06 - accuracy: 1.0000 - val_loss: 2.5653e-06 - val_accuracy: 1.0000\n"
     ]
    }
   ],
   "source": [
    "n_pairs = 3\n",
    "models_pairs = [keras.models.Sequential() for i in range(n_pairs)]\n",
    "early_stopping_cb = keras.callbacks.EarlyStopping(patience=5)\n",
    "\n",
    "for n in range(1, n_pairs+1):\n",
    "    models_pairs[n-1].add(keras.layers.Conv2D(32, (5, 5), padding='same', activation='relu', input_shape=(28, 28, 1)))\n",
    "    models_pairs[n-1].add(keras.layers.MaxPooling2D(pool_size=(2, 2)))\n",
    "    for i in range(1, n):\n",
    "        models_pairs[n-1].add(keras.layers.Conv2D(32*(i+1), (5, 5), padding='same', activation='relu'))\n",
    "        models_pairs[n-1].add(keras.layers.MaxPooling2D(pool_size=(2, 2)))\n",
    "    models_pairs[n-1].add(keras.layers.Flatten())\n",
    "    models_pairs[n-1].add(keras.layers.Dense(128, activation='relu'))\n",
    "    models_pairs[n-1].add(keras.layers.Dense(24, activation='softmax'))\n",
    "    models_pairs[n-1].compile(loss='categorical_crossentropy', optimizer='adam', metrics=['accuracy'])\n",
    "    save_best_cb = keras.callbacks.ModelCheckpoint(f'models/experiment-1-{n}', save_best_only=True)\n",
    "    history = models_pairs[n-1].fit(X_train, y_train, epochs=15, validation_data=(X_valid, y_valid), callbacks=[save_best_cb, early_stopping_cb])\n",
    "    with open(f'models/experiment-1-{n}-history', 'wb') as history_file:\n",
    "        pickle.dump(history.history, history_file)"
   ]
  },
  {
   "cell_type": "code",
   "execution_count": 32,
   "id": "fe1939d8",
   "metadata": {
    "scrolled": false
   },
   "outputs": [
    {
     "name": "stdout",
     "output_type": "stream",
     "text": [
      "Model: \"sequential_8\"\n",
      "_________________________________________________________________\n",
      " Layer (type)                Output Shape              Param #   \n",
      "=================================================================\n",
      " conv2d_7 (Conv2D)           (None, 28, 28, 32)        832       \n",
      "                                                                 \n",
      " max_pooling2d_7 (MaxPooling  (None, 14, 14, 32)       0         \n",
      " 2D)                                                             \n",
      "                                                                 \n",
      " flatten_4 (Flatten)         (None, 6272)              0         \n",
      "                                                                 \n",
      " dense_8 (Dense)             (None, 128)               802944    \n",
      "                                                                 \n",
      " dense_9 (Dense)             (None, 24)                3096      \n",
      "                                                                 \n",
      "=================================================================\n",
      "Total params: 806,872\n",
      "Trainable params: 806,872\n",
      "Non-trainable params: 0\n",
      "_________________________________________________________________\n"
     ]
    }
   ],
   "source": [
    "models_pairs[0].summary()"
   ]
  },
  {
   "cell_type": "code",
   "execution_count": 33,
   "id": "8945d1b6",
   "metadata": {
    "scrolled": true
   },
   "outputs": [
    {
     "name": "stdout",
     "output_type": "stream",
     "text": [
      "Model: \"sequential_9\"\n",
      "_________________________________________________________________\n",
      " Layer (type)                Output Shape              Param #   \n",
      "=================================================================\n",
      " conv2d_8 (Conv2D)           (None, 28, 28, 32)        832       \n",
      "                                                                 \n",
      " max_pooling2d_8 (MaxPooling  (None, 14, 14, 32)       0         \n",
      " 2D)                                                             \n",
      "                                                                 \n",
      " conv2d_9 (Conv2D)           (None, 14, 14, 64)        51264     \n",
      "                                                                 \n",
      " max_pooling2d_9 (MaxPooling  (None, 7, 7, 64)         0         \n",
      " 2D)                                                             \n",
      "                                                                 \n",
      " flatten_5 (Flatten)         (None, 3136)              0         \n",
      "                                                                 \n",
      " dense_10 (Dense)            (None, 128)               401536    \n",
      "                                                                 \n",
      " dense_11 (Dense)            (None, 24)                3096      \n",
      "                                                                 \n",
      "=================================================================\n",
      "Total params: 456,728\n",
      "Trainable params: 456,728\n",
      "Non-trainable params: 0\n",
      "_________________________________________________________________\n"
     ]
    }
   ],
   "source": [
    "models_pairs[1].summary()"
   ]
  },
  {
   "cell_type": "code",
   "execution_count": 35,
   "id": "c7a0122c",
   "metadata": {
    "scrolled": true
   },
   "outputs": [
    {
     "name": "stdout",
     "output_type": "stream",
     "text": [
      "Model: \"sequential_10\"\n",
      "_________________________________________________________________\n",
      " Layer (type)                Output Shape              Param #   \n",
      "=================================================================\n",
      " conv2d_10 (Conv2D)          (None, 28, 28, 32)        832       \n",
      "                                                                 \n",
      " max_pooling2d_10 (MaxPoolin  (None, 14, 14, 32)       0         \n",
      " g2D)                                                            \n",
      "                                                                 \n",
      " conv2d_11 (Conv2D)          (None, 14, 14, 64)        51264     \n",
      "                                                                 \n",
      " max_pooling2d_11 (MaxPoolin  (None, 7, 7, 64)         0         \n",
      " g2D)                                                            \n",
      "                                                                 \n",
      " conv2d_12 (Conv2D)          (None, 7, 7, 96)          153696    \n",
      "                                                                 \n",
      " max_pooling2d_12 (MaxPoolin  (None, 3, 3, 96)         0         \n",
      " g2D)                                                            \n",
      "                                                                 \n",
      " flatten_6 (Flatten)         (None, 864)               0         \n",
      "                                                                 \n",
      " dense_12 (Dense)            (None, 128)               110720    \n",
      "                                                                 \n",
      " dense_13 (Dense)            (None, 24)                3096      \n",
      "                                                                 \n",
      "=================================================================\n",
      "Total params: 319,608\n",
      "Trainable params: 319,608\n",
      "Non-trainable params: 0\n",
      "_________________________________________________________________\n"
     ]
    }
   ],
   "source": [
    "models_pairs[2].summary()"
   ]
  },
  {
   "cell_type": "code",
   "execution_count": 83,
   "id": "f5e21d6c",
   "metadata": {},
   "outputs": [
    {
     "name": "stdout",
     "output_type": "stream",
     "text": [
      "249/249 [==============================] - 3s 10ms/step - loss: 2.5948e-04 - accuracy: 1.0000\n",
      "249/249 [==============================] - 2s 8ms/step - loss: 9.3704e-06 - accuracy: 1.0000\n",
      "249/249 [==============================] - 3s 8ms/step - loss: 2.5653e-06 - accuracy: 1.0000\n"
     ]
    }
   ],
   "source": [
    "for index in range(n_pairs):\n",
    "    model = keras.models.load_model(f'models/experiment-1-{index+1}')\n",
    "    model.evaluate(X_valid, y_valid)"
   ]
  },
  {
   "cell_type": "code",
   "execution_count": 38,
   "id": "83c8007b",
   "metadata": {},
   "outputs": [],
   "source": [
    "h_1_1 = np.load('models/experiment-1-1-history', allow_pickle=True)\n",
    "h_1_2 = np.load('models/experiment-1-2-history', allow_pickle=True)\n",
    "h_1_3 = np.load('models/experiment-1-3-history', allow_pickle=True)"
   ]
  },
  {
   "cell_type": "code",
   "execution_count": 51,
   "id": "b62ddb38",
   "metadata": {},
   "outputs": [
    {
     "data": {
      "image/png": "[encoded data removed]",
      "text/plain": [
       "<Figure size 720x360 with 1 Axes>"
      ]
     },
     "metadata": {
      "needs_background": "light"
     },
     "output_type": "display_data"
    }
   ],
   "source": [
    "get_train_val_plots(h_1_1, yticks=np.arange(0, 1.2, 0.1))"
   ]
  },
  {
   "cell_type": "code",
   "execution_count": 52,
   "id": "32fe1158",
   "metadata": {},
   "outputs": [
    {
     "data": {
      "image/png": "[encoded data removed]",
      "text/plain": [
       "<Figure size 720x360 with 1 Axes>"
      ]
     },
     "metadata": {
      "needs_background": "light"
     },
     "output_type": "display_data"
    }
   ],
   "source": [
    "get_train_val_plots(h_1_2, yticks=np.arange(0, 1.2, 0.1))"
   ]
  },
  {
   "cell_type": "code",
   "execution_count": 53,
   "id": "30310268",
   "metadata": {},
   "outputs": [
    {
     "data": {
      "image/png": "[encoded data removed]",
      "text/plain": [
       "<Figure size 720x360 with 1 Axes>"
      ]
     },
     "metadata": {
      "needs_background": "light"
     },
     "output_type": "display_data"
    }
   ],
   "source": [
    "get_train_val_plots(h_1_3, yticks=np.arange(0, 1.2, 0.1))"
   ]
  },
  {
   "cell_type": "markdown",
   "id": "28be53a8",
   "metadata": {},
   "source": [
    "Model 3 is have the least loss on the validation data"
   ]
  },
  {
   "cell_type": "markdown",
   "id": "1ebbbd65",
   "metadata": {},
   "source": [
    "### Feature Maps\n",
    "\n",
    "Our Models now contains 3 pairs of Convolution and Pooling layers\n",
    "\n",
    "Number of feature maps can be\n",
    "\n",
    "1. 8 - 16 - 32\n",
    "2. 16 - 32 - 64\n",
    "3. 24 - 48 - 96"
   ]
  },
  {
   "cell_type": "code",
   "execution_count": 84,
   "id": "51ff2cb0",
   "metadata": {
    "scrolled": true
   },
   "outputs": [
    {
     "name": "stdout",
     "output_type": "stream",
     "text": [
      "Epoch 1/10\n",
      "610/610 [==============================] - ETA: 0s - loss: 1.2862 - accuracy: 0.6032"
     ]
    },
    {
     "name": "stderr",
     "output_type": "stream",
     "text": [
      "WARNING:absl:Found untraced functions such as _jit_compiled_convolution_op, _jit_compiled_convolution_op, _jit_compiled_convolution_op while saving (showing 3 of 3). These functions will not be directly callable after loading.\n"
     ]
    },
    {
     "name": "stdout",
     "output_type": "stream",
     "text": [
      "INFO:tensorflow:Assets written to: models\\experiment-fmaps-1\\assets\n"
     ]
    },
    {
     "name": "stderr",
     "output_type": "stream",
     "text": [
      "INFO:tensorflow:Assets written to: models\\experiment-fmaps-1\\assets\n"
     ]
    },
    {
     "name": "stdout",
     "output_type": "stream",
     "text": [
      "610/610 [==============================] - 13s 16ms/step - loss: 1.2862 - accuracy: 0.6032 - val_loss: 0.2935 - val_accuracy: 0.9141\n",
      "Epoch 2/10\n",
      "609/610 [============================>.] - ETA: 0s - loss: 0.1381 - accuracy: 0.9593"
     ]
    },
    {
     "name": "stderr",
     "output_type": "stream",
     "text": [
      "WARNING:absl:Found untraced functions such as _jit_compiled_convolution_op, _jit_compiled_convolution_op, _jit_compiled_convolution_op while saving (showing 3 of 3). These functions will not be directly callable after loading.\n"
     ]
    },
    {
     "name": "stdout",
     "output_type": "stream",
     "text": [
      "INFO:tensorflow:Assets written to: models\\experiment-fmaps-1\\assets\n"
     ]
    },
    {
     "name": "stderr",
     "output_type": "stream",
     "text": [
      "INFO:tensorflow:Assets written to: models\\experiment-fmaps-1\\assets\n"
     ]
    },
    {
     "name": "stdout",
     "output_type": "stream",
     "text": [
      "610/610 [==============================] - 9s 16ms/step - loss: 0.1380 - accuracy: 0.9593 - val_loss: 0.0743 - val_accuracy: 0.9759\n",
      "Epoch 3/10\n",
      "607/610 [============================>.] - ETA: 0s - loss: 0.0472 - accuracy: 0.9872"
     ]
    },
    {
     "name": "stderr",
     "output_type": "stream",
     "text": [
      "WARNING:absl:Found untraced functions such as _jit_compiled_convolution_op, _jit_compiled_convolution_op, _jit_compiled_convolution_op while saving (showing 3 of 3). These functions will not be directly callable after loading.\n"
     ]
    },
    {
     "name": "stdout",
     "output_type": "stream",
     "text": [
      "INFO:tensorflow:Assets written to: models\\experiment-fmaps-1\\assets\n"
     ]
    },
    {
     "name": "stderr",
     "output_type": "stream",
     "text": [
      "INFO:tensorflow:Assets written to: models\\experiment-fmaps-1\\assets\n"
     ]
    },
    {
     "name": "stdout",
     "output_type": "stream",
     "text": [
      "610/610 [==============================] - 9s 15ms/step - loss: 0.0470 - accuracy: 0.9872 - val_loss: 0.0509 - val_accuracy: 0.9871\n",
      "Epoch 4/10\n",
      "609/610 [============================>.] - ETA: 0s - loss: 0.0094 - accuracy: 0.9979"
     ]
    },
    {
     "name": "stderr",
     "output_type": "stream",
     "text": [
      "WARNING:absl:Found untraced functions such as _jit_compiled_convolution_op, _jit_compiled_convolution_op, _jit_compiled_convolution_op while saving (showing 3 of 3). These functions will not be directly callable after loading.\n"
     ]
    },
    {
     "name": "stdout",
     "output_type": "stream",
     "text": [
      "INFO:tensorflow:Assets written to: models\\experiment-fmaps-1\\assets\n"
     ]
    },
    {
     "name": "stderr",
     "output_type": "stream",
     "text": [
      "INFO:tensorflow:Assets written to: models\\experiment-fmaps-1\\assets\n"
     ]
    },
    {
     "name": "stdout",
     "output_type": "stream",
     "text": [
      "610/610 [==============================] - 11s 18ms/step - loss: 0.0094 - accuracy: 0.9979 - val_loss: 0.0010 - val_accuracy: 1.0000\n",
      "Epoch 5/10\n",
      "604/610 [============================>.] - ETA: 0s - loss: 6.8334e-04 - accuracy: 1.0000"
     ]
    },
    {
     "name": "stderr",
     "output_type": "stream",
     "text": [
      "WARNING:absl:Found untraced functions such as _jit_compiled_convolution_op, _jit_compiled_convolution_op, _jit_compiled_convolution_op while saving (showing 3 of 3). These functions will not be directly callable after loading.\n"
     ]
    },
    {
     "name": "stdout",
     "output_type": "stream",
     "text": [
      "INFO:tensorflow:Assets written to: models\\experiment-fmaps-1\\assets\n"
     ]
    },
    {
     "name": "stderr",
     "output_type": "stream",
     "text": [
      "INFO:tensorflow:Assets written to: models\\experiment-fmaps-1\\assets\n"
     ]
    },
    {
     "name": "stdout",
     "output_type": "stream",
     "text": [
      "610/610 [==============================] - 10s 17ms/step - loss: 6.8063e-04 - accuracy: 1.0000 - val_loss: 5.1600e-04 - val_accuracy: 1.0000\n",
      "Epoch 6/10\n",
      "604/610 [============================>.] - ETA: 0s - loss: 3.9389e-04 - accuracy: 1.0000"
     ]
    },
    {
     "name": "stderr",
     "output_type": "stream",
     "text": [
      "WARNING:absl:Found untraced functions such as _jit_compiled_convolution_op, _jit_compiled_convolution_op, _jit_compiled_convolution_op while saving (showing 3 of 3). These functions will not be directly callable after loading.\n"
     ]
    },
    {
     "name": "stdout",
     "output_type": "stream",
     "text": [
      "INFO:tensorflow:Assets written to: models\\experiment-fmaps-1\\assets\n"
     ]
    },
    {
     "name": "stderr",
     "output_type": "stream",
     "text": [
      "INFO:tensorflow:Assets written to: models\\experiment-fmaps-1\\assets\n"
     ]
    },
    {
     "name": "stdout",
     "output_type": "stream",
     "text": [
      "610/610 [==============================] - 8s 13ms/step - loss: 3.9279e-04 - accuracy: 1.0000 - val_loss: 3.6458e-04 - val_accuracy: 1.0000\n",
      "Epoch 7/10\n",
      "610/610 [==============================] - ETA: 0s - loss: 2.3906e-04 - accuracy: 1.0000"
     ]
    },
    {
     "name": "stderr",
     "output_type": "stream",
     "text": [
      "WARNING:absl:Found untraced functions such as _jit_compiled_convolution_op, _jit_compiled_convolution_op, _jit_compiled_convolution_op while saving (showing 3 of 3). These functions will not be directly callable after loading.\n"
     ]
    },
    {
     "name": "stdout",
     "output_type": "stream",
     "text": [
      "INFO:tensorflow:Assets written to: models\\experiment-fmaps-1\\assets\n"
     ]
    },
    {
     "name": "stderr",
     "output_type": "stream",
     "text": [
      "INFO:tensorflow:Assets written to: models\\experiment-fmaps-1\\assets\n"
     ]
    },
    {
     "name": "stdout",
     "output_type": "stream",
     "text": [
      "610/610 [==============================] - 9s 14ms/step - loss: 2.3906e-04 - accuracy: 1.0000 - val_loss: 2.3030e-04 - val_accuracy: 1.0000\n",
      "Epoch 8/10\n",
      "605/610 [============================>.] - ETA: 0s - loss: 1.6341e-04 - accuracy: 1.0000"
     ]
    },
    {
     "name": "stderr",
     "output_type": "stream",
     "text": [
      "WARNING:absl:Found untraced functions such as _jit_compiled_convolution_op, _jit_compiled_convolution_op, _jit_compiled_convolution_op while saving (showing 3 of 3). These functions will not be directly callable after loading.\n"
     ]
    },
    {
     "name": "stdout",
     "output_type": "stream",
     "text": [
      "INFO:tensorflow:Assets written to: models\\experiment-fmaps-1\\assets\n"
     ]
    },
    {
     "name": "stderr",
     "output_type": "stream",
     "text": [
      "INFO:tensorflow:Assets written to: models\\experiment-fmaps-1\\assets\n"
     ]
    },
    {
     "name": "stdout",
     "output_type": "stream",
     "text": [
      "610/610 [==============================] - 7s 12ms/step - loss: 1.6373e-04 - accuracy: 1.0000 - val_loss: 1.6579e-04 - val_accuracy: 1.0000\n",
      "Epoch 9/10\n",
      "610/610 [==============================] - ETA: 0s - loss: 1.1511e-04 - accuracy: 1.0000"
     ]
    },
    {
     "name": "stderr",
     "output_type": "stream",
     "text": [
      "WARNING:absl:Found untraced functions such as _jit_compiled_convolution_op, _jit_compiled_convolution_op, _jit_compiled_convolution_op while saving (showing 3 of 3). These functions will not be directly callable after loading.\n"
     ]
    },
    {
     "name": "stdout",
     "output_type": "stream",
     "text": [
      "INFO:tensorflow:Assets written to: models\\experiment-fmaps-1\\assets\n"
     ]
    },
    {
     "name": "stderr",
     "output_type": "stream",
     "text": [
      "INFO:tensorflow:Assets written to: models\\experiment-fmaps-1\\assets\n"
     ]
    },
    {
     "name": "stdout",
     "output_type": "stream",
     "text": [
      "610/610 [==============================] - 8s 14ms/step - loss: 1.1511e-04 - accuracy: 1.0000 - val_loss: 1.1253e-04 - val_accuracy: 1.0000\n",
      "Epoch 10/10\n",
      "610/610 [==============================] - 7s 11ms/step - loss: 0.1020 - accuracy: 0.9696 - val_loss: 0.0568 - val_accuracy: 0.9823\n",
      "Epoch 1/10\n",
      "610/610 [==============================] - ETA: 0s - loss: 1.1441 - accuracy: 0.6457"
     ]
    },
    {
     "name": "stderr",
     "output_type": "stream",
     "text": [
      "WARNING:absl:Found untraced functions such as _jit_compiled_convolution_op, _jit_compiled_convolution_op, _jit_compiled_convolution_op while saving (showing 3 of 3). These functions will not be directly callable after loading.\n"
     ]
    },
    {
     "name": "stdout",
     "output_type": "stream",
     "text": [
      "INFO:tensorflow:Assets written to: models\\experiment-fmaps-2\\assets\n"
     ]
    },
    {
     "name": "stderr",
     "output_type": "stream",
     "text": [
      "INFO:tensorflow:Assets written to: models\\experiment-fmaps-2\\assets\n"
     ]
    },
    {
     "name": "stdout",
     "output_type": "stream",
     "text": [
      "610/610 [==============================] - 12s 17ms/step - loss: 1.1441 - accuracy: 0.6457 - val_loss: 0.2042 - val_accuracy: 0.9358\n",
      "Epoch 2/10\n",
      "606/610 [============================>.] - ETA: 0s - loss: 0.0792 - accuracy: 0.9764"
     ]
    },
    {
     "name": "stderr",
     "output_type": "stream",
     "text": [
      "WARNING:absl:Found untraced functions such as _jit_compiled_convolution_op, _jit_compiled_convolution_op, _jit_compiled_convolution_op while saving (showing 3 of 3). These functions will not be directly callable after loading.\n"
     ]
    },
    {
     "name": "stdout",
     "output_type": "stream",
     "text": [
      "INFO:tensorflow:Assets written to: models\\experiment-fmaps-2\\assets\n"
     ]
    },
    {
     "name": "stderr",
     "output_type": "stream",
     "text": [
      "INFO:tensorflow:Assets written to: models\\experiment-fmaps-2\\assets\n"
     ]
    },
    {
     "name": "stdout",
     "output_type": "stream",
     "text": [
      "610/610 [==============================] - 8s 13ms/step - loss: 0.0788 - accuracy: 0.9766 - val_loss: 0.0106 - val_accuracy: 0.9997\n",
      "Epoch 3/10\n",
      "605/610 [============================>.] - ETA: 0s - loss: 0.0050 - accuracy: 0.9996"
     ]
    },
    {
     "name": "stderr",
     "output_type": "stream",
     "text": [
      "WARNING:absl:Found untraced functions such as _jit_compiled_convolution_op, _jit_compiled_convolution_op, _jit_compiled_convolution_op while saving (showing 3 of 3). These functions will not be directly callable after loading.\n"
     ]
    },
    {
     "name": "stdout",
     "output_type": "stream",
     "text": [
      "INFO:tensorflow:Assets written to: models\\experiment-fmaps-2\\assets\n"
     ]
    },
    {
     "name": "stderr",
     "output_type": "stream",
     "text": [
      "INFO:tensorflow:Assets written to: models\\experiment-fmaps-2\\assets\n"
     ]
    },
    {
     "name": "stdout",
     "output_type": "stream",
     "text": [
      "610/610 [==============================] - 8s 14ms/step - loss: 0.0049 - accuracy: 0.9996 - val_loss: 0.0015 - val_accuracy: 1.0000\n",
      "Epoch 4/10\n",
      "608/610 [============================>.] - ETA: 0s - loss: 8.6171e-04 - accuracy: 1.0000"
     ]
    },
    {
     "name": "stderr",
     "output_type": "stream",
     "text": [
      "WARNING:absl:Found untraced functions such as _jit_compiled_convolution_op, _jit_compiled_convolution_op, _jit_compiled_convolution_op while saving (showing 3 of 3). These functions will not be directly callable after loading.\n"
     ]
    },
    {
     "name": "stdout",
     "output_type": "stream",
     "text": [
      "INFO:tensorflow:Assets written to: models\\experiment-fmaps-2\\assets\n"
     ]
    },
    {
     "name": "stderr",
     "output_type": "stream",
     "text": [
      "INFO:tensorflow:Assets written to: models\\experiment-fmaps-2\\assets\n"
     ]
    },
    {
     "name": "stdout",
     "output_type": "stream",
     "text": [
      "610/610 [==============================] - 9s 15ms/step - loss: 8.6873e-04 - accuracy: 1.0000 - val_loss: 0.0012 - val_accuracy: 1.0000\n",
      "Epoch 5/10\n",
      "604/610 [============================>.] - ETA: 0s - loss: 0.0439 - accuracy: 0.9863"
     ]
    },
    {
     "name": "stderr",
     "output_type": "stream",
     "text": [
      "WARNING:absl:Found untraced functions such as _jit_compiled_convolution_op, _jit_compiled_convolution_op, _jit_compiled_convolution_op while saving (showing 3 of 3). These functions will not be directly callable after loading.\n"
     ]
    },
    {
     "name": "stdout",
     "output_type": "stream",
     "text": [
      "INFO:tensorflow:Assets written to: models\\experiment-fmaps-2\\assets\n"
     ]
    },
    {
     "name": "stderr",
     "output_type": "stream",
     "text": [
      "INFO:tensorflow:Assets written to: models\\experiment-fmaps-2\\assets\n"
     ]
    },
    {
     "name": "stdout",
     "output_type": "stream",
     "text": [
      "610/610 [==============================] - 9s 15ms/step - loss: 0.0435 - accuracy: 0.9864 - val_loss: 7.8805e-04 - val_accuracy: 1.0000\n",
      "Epoch 6/10\n",
      "605/610 [============================>.] - ETA: 0s - loss: 3.1687e-04 - accuracy: 1.0000"
     ]
    },
    {
     "name": "stderr",
     "output_type": "stream",
     "text": [
      "WARNING:absl:Found untraced functions such as _jit_compiled_convolution_op, _jit_compiled_convolution_op, _jit_compiled_convolution_op while saving (showing 3 of 3). These functions will not be directly callable after loading.\n"
     ]
    },
    {
     "name": "stdout",
     "output_type": "stream",
     "text": [
      "INFO:tensorflow:Assets written to: models\\experiment-fmaps-2\\assets\n"
     ]
    },
    {
     "name": "stderr",
     "output_type": "stream",
     "text": [
      "INFO:tensorflow:Assets written to: models\\experiment-fmaps-2\\assets\n"
     ]
    },
    {
     "name": "stdout",
     "output_type": "stream",
     "text": [
      "610/610 [==============================] - 8s 13ms/step - loss: 3.1626e-04 - accuracy: 1.0000 - val_loss: 2.6880e-04 - val_accuracy: 1.0000\n",
      "Epoch 7/10\n",
      "608/610 [============================>.] - ETA: 0s - loss: 1.5618e-04 - accuracy: 1.0000"
     ]
    },
    {
     "name": "stderr",
     "output_type": "stream",
     "text": [
      "WARNING:absl:Found untraced functions such as _jit_compiled_convolution_op, _jit_compiled_convolution_op, _jit_compiled_convolution_op while saving (showing 3 of 3). These functions will not be directly callable after loading.\n"
     ]
    },
    {
     "name": "stdout",
     "output_type": "stream",
     "text": [
      "INFO:tensorflow:Assets written to: models\\experiment-fmaps-2\\assets\n"
     ]
    },
    {
     "name": "stderr",
     "output_type": "stream",
     "text": [
      "INFO:tensorflow:Assets written to: models\\experiment-fmaps-2\\assets\n"
     ]
    },
    {
     "name": "stdout",
     "output_type": "stream",
     "text": [
      "610/610 [==============================] - 9s 14ms/step - loss: 1.5616e-04 - accuracy: 1.0000 - val_loss: 1.6740e-04 - val_accuracy: 1.0000\n",
      "Epoch 8/10\n",
      "605/610 [============================>.] - ETA: 0s - loss: 9.4205e-05 - accuracy: 1.0000"
     ]
    },
    {
     "name": "stderr",
     "output_type": "stream",
     "text": [
      "WARNING:absl:Found untraced functions such as _jit_compiled_convolution_op, _jit_compiled_convolution_op, _jit_compiled_convolution_op while saving (showing 3 of 3). These functions will not be directly callable after loading.\n"
     ]
    },
    {
     "name": "stdout",
     "output_type": "stream",
     "text": [
      "INFO:tensorflow:Assets written to: models\\experiment-fmaps-2\\assets\n"
     ]
    },
    {
     "name": "stderr",
     "output_type": "stream",
     "text": [
      "INFO:tensorflow:Assets written to: models\\experiment-fmaps-2\\assets\n"
     ]
    },
    {
     "name": "stdout",
     "output_type": "stream",
     "text": [
      "610/610 [==============================] - 8s 13ms/step - loss: 9.4174e-05 - accuracy: 1.0000 - val_loss: 1.0578e-04 - val_accuracy: 1.0000\n",
      "Epoch 9/10\n",
      "605/610 [============================>.] - ETA: 0s - loss: 6.3606e-05 - accuracy: 1.0000"
     ]
    },
    {
     "name": "stderr",
     "output_type": "stream",
     "text": [
      "WARNING:absl:Found untraced functions such as _jit_compiled_convolution_op, _jit_compiled_convolution_op, _jit_compiled_convolution_op while saving (showing 3 of 3). These functions will not be directly callable after loading.\n"
     ]
    },
    {
     "name": "stdout",
     "output_type": "stream",
     "text": [
      "INFO:tensorflow:Assets written to: models\\experiment-fmaps-2\\assets\n"
     ]
    },
    {
     "name": "stderr",
     "output_type": "stream",
     "text": [
      "INFO:tensorflow:Assets written to: models\\experiment-fmaps-2\\assets\n"
     ]
    },
    {
     "name": "stdout",
     "output_type": "stream",
     "text": [
      "610/610 [==============================] - 8s 12ms/step - loss: 6.3824e-05 - accuracy: 1.0000 - val_loss: 7.2740e-05 - val_accuracy: 1.0000\n",
      "Epoch 10/10\n",
      "609/610 [============================>.] - ETA: 0s - loss: 4.3726e-05 - accuracy: 1.0000"
     ]
    },
    {
     "name": "stderr",
     "output_type": "stream",
     "text": [
      "WARNING:absl:Found untraced functions such as _jit_compiled_convolution_op, _jit_compiled_convolution_op, _jit_compiled_convolution_op while saving (showing 3 of 3). These functions will not be directly callable after loading.\n"
     ]
    },
    {
     "name": "stdout",
     "output_type": "stream",
     "text": [
      "INFO:tensorflow:Assets written to: models\\experiment-fmaps-2\\assets\n"
     ]
    },
    {
     "name": "stderr",
     "output_type": "stream",
     "text": [
      "INFO:tensorflow:Assets written to: models\\experiment-fmaps-2\\assets\n"
     ]
    },
    {
     "name": "stdout",
     "output_type": "stream",
     "text": [
      "610/610 [==============================] - 6s 11ms/step - loss: 4.3781e-05 - accuracy: 1.0000 - val_loss: 5.2467e-05 - val_accuracy: 1.0000\n",
      "Epoch 1/10\n",
      "610/610 [==============================] - ETA: 0s - loss: 0.9440 - accuracy: 0.7072"
     ]
    },
    {
     "name": "stderr",
     "output_type": "stream",
     "text": [
      "WARNING:absl:Found untraced functions such as _jit_compiled_convolution_op, _jit_compiled_convolution_op, _jit_compiled_convolution_op while saving (showing 3 of 3). These functions will not be directly callable after loading.\n"
     ]
    },
    {
     "name": "stdout",
     "output_type": "stream",
     "text": [
      "INFO:tensorflow:Assets written to: models\\experiment-fmaps-3\\assets\n"
     ]
    },
    {
     "name": "stderr",
     "output_type": "stream",
     "text": [
      "INFO:tensorflow:Assets written to: models\\experiment-fmaps-3\\assets\n"
     ]
    },
    {
     "name": "stdout",
     "output_type": "stream",
     "text": [
      "610/610 [==============================] - 13s 20ms/step - loss: 0.9440 - accuracy: 0.7072 - val_loss: 0.1007 - val_accuracy: 0.9661\n",
      "Epoch 2/10\n",
      "609/610 [============================>.] - ETA: 0s - loss: 0.0560 - accuracy: 0.9842"
     ]
    },
    {
     "name": "stderr",
     "output_type": "stream",
     "text": [
      "WARNING:absl:Found untraced functions such as _jit_compiled_convolution_op, _jit_compiled_convolution_op, _jit_compiled_convolution_op while saving (showing 3 of 3). These functions will not be directly callable after loading.\n"
     ]
    },
    {
     "name": "stdout",
     "output_type": "stream",
     "text": [
      "INFO:tensorflow:Assets written to: models\\experiment-fmaps-3\\assets\n"
     ]
    },
    {
     "name": "stderr",
     "output_type": "stream",
     "text": [
      "INFO:tensorflow:Assets written to: models\\experiment-fmaps-3\\assets\n"
     ]
    },
    {
     "name": "stdout",
     "output_type": "stream",
     "text": [
      "610/610 [==============================] - 7s 12ms/step - loss: 0.0560 - accuracy: 0.9843 - val_loss: 0.0209 - val_accuracy: 0.9960\n",
      "Epoch 3/10\n",
      "608/610 [============================>.] - ETA: 0s - loss: 0.0023 - accuracy: 0.9999"
     ]
    },
    {
     "name": "stderr",
     "output_type": "stream",
     "text": [
      "WARNING:absl:Found untraced functions such as _jit_compiled_convolution_op, _jit_compiled_convolution_op, _jit_compiled_convolution_op while saving (showing 3 of 3). These functions will not be directly callable after loading.\n"
     ]
    },
    {
     "name": "stdout",
     "output_type": "stream",
     "text": [
      "INFO:tensorflow:Assets written to: models\\experiment-fmaps-3\\assets\n"
     ]
    },
    {
     "name": "stderr",
     "output_type": "stream",
     "text": [
      "INFO:tensorflow:Assets written to: models\\experiment-fmaps-3\\assets\n"
     ]
    },
    {
     "name": "stdout",
     "output_type": "stream",
     "text": [
      "610/610 [==============================] - 7s 12ms/step - loss: 0.0023 - accuracy: 0.9999 - val_loss: 7.2013e-04 - val_accuracy: 1.0000\n",
      "Epoch 4/10\n",
      "605/610 [============================>.] - ETA: 0s - loss: 4.6963e-04 - accuracy: 1.0000"
     ]
    },
    {
     "name": "stderr",
     "output_type": "stream",
     "text": [
      "WARNING:absl:Found untraced functions such as _jit_compiled_convolution_op, _jit_compiled_convolution_op, _jit_compiled_convolution_op while saving (showing 3 of 3). These functions will not be directly callable after loading.\n"
     ]
    },
    {
     "name": "stdout",
     "output_type": "stream",
     "text": [
      "INFO:tensorflow:Assets written to: models\\experiment-fmaps-3\\assets\n"
     ]
    },
    {
     "name": "stderr",
     "output_type": "stream",
     "text": [
      "INFO:tensorflow:Assets written to: models\\experiment-fmaps-3\\assets\n"
     ]
    },
    {
     "name": "stdout",
     "output_type": "stream",
     "text": [
      "610/610 [==============================] - 8s 13ms/step - loss: 4.6816e-04 - accuracy: 1.0000 - val_loss: 3.4561e-04 - val_accuracy: 1.0000\n",
      "Epoch 5/10\n",
      "607/610 [============================>.] - ETA: 0s - loss: 2.5383e-04 - accuracy: 1.0000"
     ]
    },
    {
     "name": "stderr",
     "output_type": "stream",
     "text": [
      "WARNING:absl:Found untraced functions such as _jit_compiled_convolution_op, _jit_compiled_convolution_op, _jit_compiled_convolution_op while saving (showing 3 of 3). These functions will not be directly callable after loading.\n"
     ]
    },
    {
     "name": "stdout",
     "output_type": "stream",
     "text": [
      "INFO:tensorflow:Assets written to: models\\experiment-fmaps-3\\assets\n"
     ]
    },
    {
     "name": "stderr",
     "output_type": "stream",
     "text": [
      "INFO:tensorflow:Assets written to: models\\experiment-fmaps-3\\assets\n"
     ]
    },
    {
     "name": "stdout",
     "output_type": "stream",
     "text": [
      "610/610 [==============================] - 8s 12ms/step - loss: 2.5440e-04 - accuracy: 1.0000 - val_loss: 2.1135e-04 - val_accuracy: 1.0000\n",
      "Epoch 6/10\n",
      "604/610 [============================>.] - ETA: 0s - loss: 1.5354e-04 - accuracy: 1.0000"
     ]
    },
    {
     "name": "stderr",
     "output_type": "stream",
     "text": [
      "WARNING:absl:Found untraced functions such as _jit_compiled_convolution_op, _jit_compiled_convolution_op, _jit_compiled_convolution_op while saving (showing 3 of 3). These functions will not be directly callable after loading.\n"
     ]
    },
    {
     "name": "stdout",
     "output_type": "stream",
     "text": [
      "INFO:tensorflow:Assets written to: models\\experiment-fmaps-3\\assets\n"
     ]
    },
    {
     "name": "stderr",
     "output_type": "stream",
     "text": [
      "INFO:tensorflow:Assets written to: models\\experiment-fmaps-3\\assets\n"
     ]
    },
    {
     "name": "stdout",
     "output_type": "stream",
     "text": [
      "610/610 [==============================] - 8s 12ms/step - loss: 1.5301e-04 - accuracy: 1.0000 - val_loss: 1.5294e-04 - val_accuracy: 1.0000\n",
      "Epoch 7/10\n",
      "605/610 [============================>.] - ETA: 0s - loss: 1.0028e-04 - accuracy: 1.0000"
     ]
    },
    {
     "name": "stderr",
     "output_type": "stream",
     "text": [
      "WARNING:absl:Found untraced functions such as _jit_compiled_convolution_op, _jit_compiled_convolution_op, _jit_compiled_convolution_op while saving (showing 3 of 3). These functions will not be directly callable after loading.\n"
     ]
    },
    {
     "name": "stdout",
     "output_type": "stream",
     "text": [
      "INFO:tensorflow:Assets written to: models\\experiment-fmaps-3\\assets\n"
     ]
    },
    {
     "name": "stderr",
     "output_type": "stream",
     "text": [
      "INFO:tensorflow:Assets written to: models\\experiment-fmaps-3\\assets\n"
     ]
    },
    {
     "name": "stdout",
     "output_type": "stream",
     "text": [
      "610/610 [==============================] - 7s 12ms/step - loss: 1.0031e-04 - accuracy: 1.0000 - val_loss: 1.0363e-04 - val_accuracy: 1.0000\n",
      "Epoch 8/10\n",
      "605/610 [============================>.] - ETA: 0s - loss: 6.5328e-05 - accuracy: 1.0000"
     ]
    },
    {
     "name": "stderr",
     "output_type": "stream",
     "text": [
      "WARNING:absl:Found untraced functions such as _jit_compiled_convolution_op, _jit_compiled_convolution_op, _jit_compiled_convolution_op while saving (showing 3 of 3). These functions will not be directly callable after loading.\n"
     ]
    },
    {
     "name": "stdout",
     "output_type": "stream",
     "text": [
      "INFO:tensorflow:Assets written to: models\\experiment-fmaps-3\\assets\n"
     ]
    },
    {
     "name": "stderr",
     "output_type": "stream",
     "text": [
      "INFO:tensorflow:Assets written to: models\\experiment-fmaps-3\\assets\n"
     ]
    },
    {
     "name": "stdout",
     "output_type": "stream",
     "text": [
      "610/610 [==============================] - 8s 13ms/step - loss: 6.5049e-05 - accuracy: 1.0000 - val_loss: 6.1038e-05 - val_accuracy: 1.0000\n",
      "Epoch 9/10\n",
      "610/610 [==============================] - ETA: 0s - loss: 4.3536e-05 - accuracy: 1.0000"
     ]
    },
    {
     "name": "stderr",
     "output_type": "stream",
     "text": [
      "WARNING:absl:Found untraced functions such as _jit_compiled_convolution_op, _jit_compiled_convolution_op, _jit_compiled_convolution_op while saving (showing 3 of 3). These functions will not be directly callable after loading.\n"
     ]
    },
    {
     "name": "stdout",
     "output_type": "stream",
     "text": [
      "INFO:tensorflow:Assets written to: models\\experiment-fmaps-3\\assets\n"
     ]
    },
    {
     "name": "stderr",
     "output_type": "stream",
     "text": [
      "INFO:tensorflow:Assets written to: models\\experiment-fmaps-3\\assets\n"
     ]
    },
    {
     "name": "stdout",
     "output_type": "stream",
     "text": [
      "610/610 [==============================] - 7s 12ms/step - loss: 4.3536e-05 - accuracy: 1.0000 - val_loss: 4.2570e-05 - val_accuracy: 1.0000\n",
      "Epoch 10/10\n",
      "607/610 [============================>.] - ETA: 0s - loss: 2.9967e-05 - accuracy: 1.0000"
     ]
    },
    {
     "name": "stderr",
     "output_type": "stream",
     "text": [
      "WARNING:absl:Found untraced functions such as _jit_compiled_convolution_op, _jit_compiled_convolution_op, _jit_compiled_convolution_op while saving (showing 3 of 3). These functions will not be directly callable after loading.\n"
     ]
    },
    {
     "name": "stdout",
     "output_type": "stream",
     "text": [
      "INFO:tensorflow:Assets written to: models\\experiment-fmaps-3\\assets\n"
     ]
    },
    {
     "name": "stderr",
     "output_type": "stream",
     "text": [
      "INFO:tensorflow:Assets written to: models\\experiment-fmaps-3\\assets\n"
     ]
    },
    {
     "name": "stdout",
     "output_type": "stream",
     "text": [
      "\b\b\b\b\b\b\b\b\b\b\b\b\b\b\b\b\b\b\b\b\b\b\b\b\b\b\b\b\b\b\b\b\b\b\b\b\b\b\b\b\b\b\b\b\b\b\b\b\b\b\b\b\b\b\b\b\b\b\b\b\b\b\b\b\b\b\b\b\b\b\b\b\b\b\b\b\b\b\b\b\b\b\b\b\b\b\b\b\r",
      "610/610 [==============================] - 7s 12ms/step - loss: 2.9911e-05 - accuracy: 1.0000 - val_loss: 3.0291e-05 - val_accuracy: 1.0000\n"
     ]
    }
   ],
   "source": [
    "n_tests = 3\n",
    "\n",
    "models = []\n",
    "early_stopping_cb = keras.callbacks.EarlyStopping(patience=5)\n",
    "\n",
    "\n",
    "for i in range(n_tests):\n",
    "    model = keras.models.Sequential()\n",
    "    models.append(model)\n",
    "    model.add(keras.layers.Input(shape=(28, 28, 1)))\n",
    "    for pairs in range(3):\n",
    "        model.add(keras.layers.Conv2D((8*(i+1))*(2**pairs), (5, 5), padding='same', activation='relu'))\n",
    "        model.add(keras.layers.MaxPooling2D(pool_size=(2, 2)))\n",
    "    model.add(keras.layers.Flatten())\n",
    "    model.add(keras.layers.Dense(128, activation='relu'))\n",
    "    model.add(keras.layers.Dense(24, activation='softmax'))\n",
    "    model.compile(loss='categorical_crossentropy', optimizer='adam', metrics=['accuracy'])\n",
    "    save_best_cb = keras.callbacks.ModelCheckpoint(f'models/experiment-fmaps-{i+1}', save_best_only=True)\n",
    "    history = model.fit(X_train, y_train, epochs=10, validation_data=(X_valid, y_valid), callbacks=[save_best_cb, early_stopping_cb])\n",
    "    with open(f'models/experiment-fmaps-{i+1}-history', 'wb') as history_file:\n",
    "        pickle.dump(history.history, history_file)"
   ]
  },
  {
   "cell_type": "code",
   "execution_count": 85,
   "id": "4c22de89",
   "metadata": {
    "scrolled": true
   },
   "outputs": [
    {
     "name": "stdout",
     "output_type": "stream",
     "text": [
      "Model: \"sequential_36\"\n",
      "_________________________________________________________________\n",
      " Layer (type)                Output Shape              Param #   \n",
      "=================================================================\n",
      " conv2d_88 (Conv2D)          (None, 28, 28, 8)         208       \n",
      "                                                                 \n",
      " max_pooling2d_88 (MaxPoolin  (None, 14, 14, 8)        0         \n",
      " g2D)                                                            \n",
      "                                                                 \n",
      " conv2d_89 (Conv2D)          (None, 14, 14, 16)        3216      \n",
      "                                                                 \n",
      " max_pooling2d_89 (MaxPoolin  (None, 7, 7, 16)         0         \n",
      " g2D)                                                            \n",
      "                                                                 \n",
      " conv2d_90 (Conv2D)          (None, 7, 7, 32)          12832     \n",
      "                                                                 \n",
      " max_pooling2d_90 (MaxPoolin  (None, 3, 3, 32)         0         \n",
      " g2D)                                                            \n",
      "                                                                 \n",
      " flatten_17 (Flatten)        (None, 288)               0         \n",
      "                                                                 \n",
      " dense_34 (Dense)            (None, 128)               36992     \n",
      "                                                                 \n",
      " dense_35 (Dense)            (None, 24)                3096      \n",
      "                                                                 \n",
      "=================================================================\n",
      "Total params: 56,344\n",
      "Trainable params: 56,344\n",
      "Non-trainable params: 0\n",
      "_________________________________________________________________\n"
     ]
    }
   ],
   "source": [
    "models[0].summary()"
   ]
  },
  {
   "cell_type": "code",
   "execution_count": 86,
   "id": "27f5faf6",
   "metadata": {
    "scrolled": true
   },
   "outputs": [
    {
     "name": "stdout",
     "output_type": "stream",
     "text": [
      "Model: \"sequential_37\"\n",
      "_________________________________________________________________\n",
      " Layer (type)                Output Shape              Param #   \n",
      "=================================================================\n",
      " conv2d_91 (Conv2D)          (None, 28, 28, 16)        416       \n",
      "                                                                 \n",
      " max_pooling2d_91 (MaxPoolin  (None, 14, 14, 16)       0         \n",
      " g2D)                                                            \n",
      "                                                                 \n",
      " conv2d_92 (Conv2D)          (None, 14, 14, 32)        12832     \n",
      "                                                                 \n",
      " max_pooling2d_92 (MaxPoolin  (None, 7, 7, 32)         0         \n",
      " g2D)                                                            \n",
      "                                                                 \n",
      " conv2d_93 (Conv2D)          (None, 7, 7, 64)          51264     \n",
      "                                                                 \n",
      " max_pooling2d_93 (MaxPoolin  (None, 3, 3, 64)         0         \n",
      " g2D)                                                            \n",
      "                                                                 \n",
      " flatten_18 (Flatten)        (None, 576)               0         \n",
      "                                                                 \n",
      " dense_36 (Dense)            (None, 128)               73856     \n",
      "                                                                 \n",
      " dense_37 (Dense)            (None, 24)                3096      \n",
      "                                                                 \n",
      "=================================================================\n",
      "Total params: 141,464\n",
      "Trainable params: 141,464\n",
      "Non-trainable params: 0\n",
      "_________________________________________________________________\n"
     ]
    }
   ],
   "source": [
    "models[1].summary()"
   ]
  },
  {
   "cell_type": "code",
   "execution_count": 87,
   "id": "89b7bbaf",
   "metadata": {
    "scrolled": true
   },
   "outputs": [
    {
     "name": "stdout",
     "output_type": "stream",
     "text": [
      "Model: \"sequential_38\"\n",
      "_________________________________________________________________\n",
      " Layer (type)                Output Shape              Param #   \n",
      "=================================================================\n",
      " conv2d_94 (Conv2D)          (None, 28, 28, 24)        624       \n",
      "                                                                 \n",
      " max_pooling2d_94 (MaxPoolin  (None, 14, 14, 24)       0         \n",
      " g2D)                                                            \n",
      "                                                                 \n",
      " conv2d_95 (Conv2D)          (None, 14, 14, 48)        28848     \n",
      "                                                                 \n",
      " max_pooling2d_95 (MaxPoolin  (None, 7, 7, 48)         0         \n",
      " g2D)                                                            \n",
      "                                                                 \n",
      " conv2d_96 (Conv2D)          (None, 7, 7, 96)          115296    \n",
      "                                                                 \n",
      " max_pooling2d_96 (MaxPoolin  (None, 3, 3, 96)         0         \n",
      " g2D)                                                            \n",
      "                                                                 \n",
      " flatten_19 (Flatten)        (None, 864)               0         \n",
      "                                                                 \n",
      " dense_38 (Dense)            (None, 128)               110720    \n",
      "                                                                 \n",
      " dense_39 (Dense)            (None, 24)                3096      \n",
      "                                                                 \n",
      "=================================================================\n",
      "Total params: 258,584\n",
      "Trainable params: 258,584\n",
      "Non-trainable params: 0\n",
      "_________________________________________________________________\n"
     ]
    }
   ],
   "source": [
    "models[2].summary()"
   ]
  },
  {
   "cell_type": "code",
   "execution_count": 88,
   "id": "d7b2bf2d",
   "metadata": {},
   "outputs": [
    {
     "name": "stdout",
     "output_type": "stream",
     "text": [
      "249/249 [==============================] - 1s 5ms/step - loss: 1.1253e-04 - accuracy: 1.0000\n",
      "249/249 [==============================] - 1s 5ms/step - loss: 5.2467e-05 - accuracy: 1.0000\n",
      "249/249 [==============================] - 1s 5ms/step - loss: 3.0291e-05 - accuracy: 1.0000\n"
     ]
    }
   ],
   "source": [
    "for index in range(n_tests):\n",
    "    model = keras.models.load_model(f'models/experiment-fmaps-{index+1}')\n",
    "    model.evaluate(X_valid, y_valid)"
   ]
  },
  {
   "cell_type": "code",
   "execution_count": 89,
   "id": "c6af5d12",
   "metadata": {},
   "outputs": [],
   "source": [
    "h_2_1 = np.load('models/experiment-fmaps-1-history', allow_pickle=True)\n",
    "h_2_2 = np.load('models/experiment-fmaps-2-history', allow_pickle=True)\n",
    "h_2_3 = np.load('models/experiment-fmaps-3-history', allow_pickle=True)"
   ]
  },
  {
   "cell_type": "code",
   "execution_count": 90,
   "id": "dac13522",
   "metadata": {
    "scrolled": true
   },
   "outputs": [
    {
     "data": {
      "image/png": "[encoded data removed]",
      "text/plain": [
       "<Figure size 720x360 with 1 Axes>"
      ]
     },
     "metadata": {
      "needs_background": "light"
     },
     "output_type": "display_data"
    },
    {
     "data": {
      "image/png": "[encoded data removed]",
      "text/plain": [
       "<Figure size 720x360 with 1 Axes>"
      ]
     },
     "metadata": {
      "needs_background": "light"
     },
     "output_type": "display_data"
    },
    {
     "data": {
      "image/png": "[encoded data removed]",
      "text/plain": [
       "<Figure size 720x360 with 1 Axes>"
      ]
     },
     "metadata": {
      "needs_background": "light"
     },
     "output_type": "display_data"
    }
   ],
   "source": [
    "get_train_val_plots(h_2_1, yticks=np.arange(0, 1.2, 0.1))\n",
    "get_train_val_plots(h_2_2, yticks=np.arange(0, 1.2, 0.1))\n",
    "get_train_val_plots(h_2_3, yticks=np.arange(0, 1.2, 0.1))"
   ]
  },
  {
   "cell_type": "markdown",
   "id": "74dc1a09",
   "metadata": {},
   "source": [
    "Choose Model 3"
   ]
  },
  {
   "cell_type": "code",
   "execution_count": null,
   "id": "0921bac1",
   "metadata": {},
   "outputs": [],
   "source": []
  }
 ],
 "metadata": {
  "kernelspec": {
   "display_name": "Python 3 (ipykernel)",
   "language": "python",
   "name": "python3"
  },
  "language_info": {
   "codemirror_mode": {
    "name": "ipython",
    "version": 3
   },
   "file_extension": ".py",
   "mimetype": "text/x-python",
   "name": "python",
   "nbconvert_exporter": "python",
   "pygments_lexer": "ipython3",
   "version": "3.9.12"
  }
 },
 "nbformat": 4,
 "nbformat_minor": 5
}
