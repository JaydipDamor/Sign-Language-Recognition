{
 "cells": [
  {
   "cell_type": "code",
   "execution_count": 90,
   "id": "2e244664",
   "metadata": {},
   "outputs": [],
   "source": [
    "from sklearn.preprocessing import LabelBinarizer\n",
    "from tensorflow import keras\n",
    "\n",
    "import tensorflow as tf\n",
    "import numpy as np\n",
    "import pandas as pd\n",
    "import matplotlib.pyplot as plt"
   ]
  },
  {
   "cell_type": "code",
   "execution_count": 91,
   "id": "eae464d1",
   "metadata": {},
   "outputs": [],
   "source": [
    "train_df = pd.read_csv('data/alphabet/sign_mnist_train.csv')"
   ]
  },
  {
   "cell_type": "code",
   "execution_count": 92,
   "id": "3d64b0f8",
   "metadata": {},
   "outputs": [],
   "source": [
    "train_df = train_df.sample(frac=1, random_state=42)"
   ]
  },
  {
   "cell_type": "code",
   "execution_count": 93,
   "id": "9b8af356",
   "metadata": {},
   "outputs": [],
   "source": [
    "X, y = train_df.drop('label', axis=1), train_df['label']"
   ]
  },
  {
   "cell_type": "code",
   "execution_count": 94,
   "id": "9d7f1815",
   "metadata": {},
   "outputs": [
    {
     "data": {
      "text/plain": [
       "((27455, 784), (27455,))"
      ]
     },
     "execution_count": 94,
     "metadata": {},
     "output_type": "execute_result"
    }
   ],
   "source": [
    "X.shape, y.shape"
   ]
  },
  {
   "cell_type": "code",
   "execution_count": 95,
   "id": "0d2c0ed4",
   "metadata": {},
   "outputs": [
    {
     "data": {
      "text/plain": [
       "(array([dtype('int64')], dtype=object), dtype('int64'))"
      ]
     },
     "execution_count": 95,
     "metadata": {},
     "output_type": "execute_result"
    }
   ],
   "source": [
    "np.unique(X.dtypes), y.dtype"
   ]
  },
  {
   "cell_type": "code",
   "execution_count": 96,
   "id": "aefdee2d",
   "metadata": {},
   "outputs": [],
   "source": [
    "label_binarizer = LabelBinarizer()\n",
    "y = label_binarizer.fit_transform(y)"
   ]
  },
  {
   "cell_type": "code",
   "execution_count": 97,
   "id": "dac7aa05",
   "metadata": {},
   "outputs": [],
   "source": [
    "X = X/255.0"
   ]
  },
  {
   "cell_type": "code",
   "execution_count": 98,
   "id": "0614382c",
   "metadata": {},
   "outputs": [
    {
     "data": {
      "text/plain": [
       "array([dtype('float64')], dtype=object)"
      ]
     },
     "execution_count": 98,
     "metadata": {},
     "output_type": "execute_result"
    }
   ],
   "source": [
    "np.unique(X.dtypes)"
   ]
  },
  {
   "cell_type": "code",
   "execution_count": 99,
   "id": "31a1dd1e",
   "metadata": {},
   "outputs": [],
   "source": [
    "X = tf.reshape(X, [-1, 28, 28, 1])"
   ]
  },
  {
   "cell_type": "code",
   "execution_count": 100,
   "id": "3fd8e960",
   "metadata": {},
   "outputs": [
    {
     "data": {
      "text/plain": [
       "(TensorShape([27455, 28, 28, 1]), (27455, 24))"
      ]
     },
     "execution_count": 100,
     "metadata": {},
     "output_type": "execute_result"
    }
   ],
   "source": [
    "X.shape, y.shape"
   ]
  },
  {
   "cell_type": "code",
   "execution_count": 101,
   "id": "20fca390",
   "metadata": {},
   "outputs": [],
   "source": [
    "X_train, X_valid = X[:25000], X[25000:]\n",
    "y_train, y_valid = y[:25000], y[25000:]"
   ]
  },
  {
   "cell_type": "code",
   "execution_count": 102,
   "id": "a1746470",
   "metadata": {},
   "outputs": [
    {
     "data": {
      "text/plain": [
       "tf.float64"
      ]
     },
     "execution_count": 102,
     "metadata": {},
     "output_type": "execute_result"
    }
   ],
   "source": [
    "X_train[0].dtype"
   ]
  },
  {
   "cell_type": "code",
   "execution_count": 103,
   "id": "924a59d5",
   "metadata": {},
   "outputs": [
    {
     "data": {
      "text/plain": [
       "TensorShape([28, 28, 1])"
      ]
     },
     "execution_count": 103,
     "metadata": {},
     "output_type": "execute_result"
    }
   ],
   "source": [
    "X_train[0].shape"
   ]
  },
  {
   "cell_type": "code",
   "execution_count": 104,
   "id": "368bf529",
   "metadata": {},
   "outputs": [
    {
     "data": {
      "text/plain": [
       "(<matplotlib.image.AxesImage at 0x201320c8640>,\n",
       " array([0, 0, 0, 0, 0, 0, 0, 0, 0, 0, 0, 0, 0, 0, 0, 0, 0, 1, 0, 0, 0, 0,\n",
       "        0, 0]))"
      ]
     },
     "execution_count": 104,
     "metadata": {},
     "output_type": "execute_result"
    },
    {
     "data": {
      "image/png": "[encoded data removed]",
      "text/plain": [
       "<Figure size 432x288 with 1 Axes>"
      ]
     },
     "metadata": {
      "needs_background": "light"
     },
     "output_type": "display_data"
    }
   ],
   "source": [
    "plt.imshow(X[0], cmap='gray'), y[2]"
   ]
  },
  {
   "cell_type": "code",
   "execution_count": 105,
   "id": "689a381e",
   "metadata": {},
   "outputs": [],
   "source": [
    "model = keras.models.Sequential()\n",
    "model.add(keras.layers.Conv2D(32, (5, 5), padding=\"same\", activation='relu', input_shape=(28, 28, 1)))\n",
    "model.add(keras.layers.MaxPooling2D(pool_size=(2, 2)))\n",
    "model.add(keras.layers.Conv2D(64, (5, 5), padding=\"same\", activation='relu'))\n",
    "model.add(keras.layers.MaxPooling2D(pool_size=(2, 2)))\n",
    "model.add(keras.layers.Conv2D(128, (5, 5), padding=\"same\", activation='relu'))\n",
    "model.add(keras.layers.MaxPooling2D(pool_size=(2, 2)))\n",
    "model.add(keras.layers.Flatten())\n",
    "model.add(keras.layers.Dense(128, activation=\"relu\"))\n",
    "model.add(keras.layers.Dense(24, activation=\"softmax\"))"
   ]
  },
  {
   "cell_type": "code",
   "execution_count": 106,
   "id": "78cfb24d",
   "metadata": {},
   "outputs": [
    {
     "name": "stdout",
     "output_type": "stream",
     "text": [
      "Model: \"sequential_8\"\n",
      "_________________________________________________________________\n",
      " Layer (type)                Output Shape              Param #   \n",
      "=================================================================\n",
      " conv2d_16 (Conv2D)          (None, 28, 28, 32)        832       \n",
      "                                                                 \n",
      " max_pooling2d_16 (MaxPoolin  (None, 14, 14, 32)       0         \n",
      " g2D)                                                            \n",
      "                                                                 \n",
      " conv2d_17 (Conv2D)          (None, 14, 14, 64)        51264     \n",
      "                                                                 \n",
      " max_pooling2d_17 (MaxPoolin  (None, 7, 7, 64)         0         \n",
      " g2D)                                                            \n",
      "                                                                 \n",
      " conv2d_18 (Conv2D)          (None, 7, 7, 128)         204928    \n",
      "                                                                 \n",
      " max_pooling2d_18 (MaxPoolin  (None, 3, 3, 128)        0         \n",
      " g2D)                                                            \n",
      "                                                                 \n",
      " flatten_7 (Flatten)         (None, 1152)              0         \n",
      "                                                                 \n",
      " dense_14 (Dense)            (None, 128)               147584    \n",
      "                                                                 \n",
      " dense_15 (Dense)            (None, 24)                3096      \n",
      "                                                                 \n",
      "=================================================================\n",
      "Total params: 407,704\n",
      "Trainable params: 407,704\n",
      "Non-trainable params: 0\n",
      "_________________________________________________________________\n"
     ]
    }
   ],
   "source": [
    "model.summary()"
   ]
  },
  {
   "cell_type": "code",
   "execution_count": 107,
   "id": "2a880adb",
   "metadata": {},
   "outputs": [],
   "source": [
    "model.compile(loss=\"categorical_crossentropy\", optimizer='adam', metrics=[\"accuracy\"])"
   ]
  },
  {
   "cell_type": "code",
   "execution_count": 108,
   "id": "ba45325b",
   "metadata": {
    "scrolled": true
   },
   "outputs": [
    {
     "name": "stdout",
     "output_type": "stream",
     "text": [
      "Epoch 1/15\n",
      "782/782 [==============================] - 14s 16ms/step - loss: 0.7616 - accuracy: 0.7666 - val_loss: 0.0240 - val_accuracy: 0.9971\n",
      "Epoch 2/15\n",
      "782/782 [==============================] - 12s 16ms/step - loss: 0.0082 - accuracy: 0.9988 - val_loss: 0.0010 - val_accuracy: 1.0000\n",
      "Epoch 3/15\n",
      "782/782 [==============================] - 13s 16ms/step - loss: 5.1580e-04 - accuracy: 1.0000 - val_loss: 4.3567e-04 - val_accuracy: 1.0000\n",
      "Epoch 4/15\n",
      "782/782 [==============================] - 14s 17ms/step - loss: 2.0970e-04 - accuracy: 1.0000 - val_loss: 1.7155e-04 - val_accuracy: 1.0000\n",
      "Epoch 5/15\n",
      "782/782 [==============================] - 13s 16ms/step - loss: 1.0457e-04 - accuracy: 1.0000 - val_loss: 8.3123e-05 - val_accuracy: 1.0000\n",
      "Epoch 6/15\n",
      "782/782 [==============================] - 13s 17ms/step - loss: 5.7380e-05 - accuracy: 1.0000 - val_loss: 5.2299e-05 - val_accuracy: 1.0000\n",
      "Epoch 7/15\n",
      "782/782 [==============================] - 12s 15ms/step - loss: 3.3100e-05 - accuracy: 1.0000 - val_loss: 3.1395e-05 - val_accuracy: 1.0000\n",
      "Epoch 8/15\n",
      "782/782 [==============================] - 14s 18ms/step - loss: 1.9621e-05 - accuracy: 1.0000 - val_loss: 1.9179e-05 - val_accuracy: 1.0000\n",
      "Epoch 9/15\n",
      "782/782 [==============================] - 13s 16ms/step - loss: 1.2063e-05 - accuracy: 1.0000 - val_loss: 1.0664e-05 - val_accuracy: 1.0000\n",
      "Epoch 10/15\n",
      "782/782 [==============================] - 12s 16ms/step - loss: 7.1673e-06 - accuracy: 1.0000 - val_loss: 7.2279e-06 - val_accuracy: 1.0000\n",
      "Epoch 11/15\n",
      "782/782 [==============================] - 13s 16ms/step - loss: 4.4915e-06 - accuracy: 1.0000 - val_loss: 4.2359e-06 - val_accuracy: 1.0000\n",
      "Epoch 12/15\n",
      "782/782 [==============================] - 12s 15ms/step - loss: 2.8817e-06 - accuracy: 1.0000 - val_loss: 2.8612e-06 - val_accuracy: 1.0000\n",
      "Epoch 13/15\n",
      "782/782 [==============================] - 12s 16ms/step - loss: 1.6691e-06 - accuracy: 1.0000 - val_loss: 1.9677e-06 - val_accuracy: 1.0000\n",
      "Epoch 14/15\n",
      "782/782 [==============================] - 14s 17ms/step - loss: 0.0631 - accuracy: 0.9835 - val_loss: 0.0258 - val_accuracy: 0.9923\n",
      "Epoch 15/15\n",
      "782/782 [==============================] - 11s 15ms/step - loss: 0.0016 - accuracy: 0.9998 - val_loss: 2.7629e-04 - val_accuracy: 1.0000\n"
     ]
    }
   ],
   "source": [
    "history = model.fit(X_train, y_train, epochs=15, validation_data=(X_valid, y_valid))"
   ]
  },
  {
   "cell_type": "code",
   "execution_count": 109,
   "id": "7c07dda5",
   "metadata": {},
   "outputs": [
    {
     "name": "stdout",
     "output_type": "stream",
     "text": [
      "1/1 [==============================] - 0s 107ms/step\n"
     ]
    },
    {
     "data": {
      "text/plain": [
       "array([[5.72259483e-16, 3.24770883e-19, 2.74234357e-13, 2.58152285e-15,\n",
       "        4.72158167e-21, 9.94885725e-17, 2.19710070e-10, 1.00000000e+00,\n",
       "        1.86269427e-16, 9.36994114e-15, 7.82815544e-13, 5.89871150e-16,\n",
       "        4.31165823e-08, 1.04545116e-12, 4.26364266e-13, 3.88483299e-12,\n",
       "        1.35403511e-15, 4.03469957e-15, 4.97649556e-13, 4.77350527e-13,\n",
       "        2.72222650e-14, 3.14034094e-18, 1.38449178e-14, 1.07699995e-10]],\n",
       "      dtype=float32)"
      ]
     },
     "execution_count": 109,
     "metadata": {},
     "output_type": "execute_result"
    }
   ],
   "source": [
    "model.predict(X_valid[:1])"
   ]
  },
  {
   "cell_type": "code",
   "execution_count": 110,
   "id": "451bfdd7",
   "metadata": {},
   "outputs": [],
   "source": [
    "test_df = pd.read_csv('data/alphabet/sign_mnist_test.csv')"
   ]
  },
  {
   "cell_type": "code",
   "execution_count": 111,
   "id": "de0d1162",
   "metadata": {},
   "outputs": [],
   "source": [
    "X_test, y_test = test_df.drop('label', axis=1), test_df['label']"
   ]
  },
  {
   "cell_type": "code",
   "execution_count": 112,
   "id": "e461092a",
   "metadata": {},
   "outputs": [],
   "source": [
    "X_test = tf.reshape(X_test, [-1, 28, 28, 1])"
   ]
  },
  {
   "cell_type": "code",
   "execution_count": 113,
   "id": "bfa71db0",
   "metadata": {},
   "outputs": [],
   "source": [
    "y_test = label_binarizer.transform(y_test)"
   ]
  },
  {
   "cell_type": "code",
   "execution_count": 114,
   "id": "f4ef974d",
   "metadata": {},
   "outputs": [
    {
     "name": "stdout",
     "output_type": "stream",
     "text": [
      "225/225 [==============================] - 1s 5ms/step - loss: 33.4946 - accuracy: 0.9392\n"
     ]
    },
    {
     "data": {
      "text/plain": [
       "[33.49458312988281, 0.9392080307006836]"
      ]
     },
     "execution_count": 114,
     "metadata": {},
     "output_type": "execute_result"
    }
   ],
   "source": [
    "model.evaluate(X_test, y_test)"
   ]
  },
  {
   "cell_type": "code",
   "execution_count": 115,
   "id": "22910efb",
   "metadata": {},
   "outputs": [
    {
     "name": "stderr",
     "output_type": "stream",
     "text": [
      "WARNING:absl:Found untraced functions such as _jit_compiled_convolution_op, _jit_compiled_convolution_op, _jit_compiled_convolution_op while saving (showing 3 of 3). These functions will not be directly callable after loading.\n"
     ]
    },
    {
     "name": "stdout",
     "output_type": "stream",
     "text": [
      "INFO:tensorflow:Assets written to: initial-end-to-end\\assets\n"
     ]
    },
    {
     "name": "stderr",
     "output_type": "stream",
     "text": [
      "INFO:tensorflow:Assets written to: initial-end-to-end\\assets\n"
     ]
    }
   ],
   "source": [
    "model.save('initial-end-to-end')"
   ]
  },
  {
   "cell_type": "code",
   "execution_count": null,
   "id": "ebab6fd2",
   "metadata": {},
   "outputs": [],
   "source": []
  }
 ],
 "metadata": {
  "kernelspec": {
   "display_name": "Python 3 (ipykernel)",
   "language": "python",
   "name": "python3"
  },
  "language_info": {
   "codemirror_mode": {
    "name": "ipython",
    "version": 3
   },
   "file_extension": ".py",
   "mimetype": "text/x-python",
   "name": "python",
   "nbconvert_exporter": "python",
   "pygments_lexer": "ipython3",
   "version": "3.9.12"
  }
 },
 "nbformat": 4,
 "nbformat_minor": 5
}
